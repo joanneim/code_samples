{
  "cells": [
    {
      "cell_type": "markdown",
      "id": "d3d1a8de",
      "metadata": {
        "id": "d3d1a8de"
      },
      "source": [
        "## Question 1\n",
        "\n",
        "*(a) Describe how to estimate a linear regression model using (i) maximum likelihood, and (ii) maximum a posteriori (MAP) estimation. (Note: We did not cover how to apply the two methods for linear regression in class. You should try to follow their standard procedures and make the necessary assumptions.)*\n",
        "\n",
        "Suppose that we have an IID sample $\\left(y_i, X_i\\right)_{i=1}^n$ from some population such that there is no perfect multicollinearity in $X$. Consider the following linear regression model\n",
        "\n",
        "$$y_i = X_i \\beta + \\epsilon_i, \\quad \\mathbb{E} \\left[\\epsilon_i \\mid X_i \\right] = 0$$\n",
        "\n",
        "**Maximum Likelihood:**\n",
        "\n",
        "To estimate the parameters of this model using maximum likelihood, we need to specify a distribution for $y_i$ and select the parameters that maximize the likelihood of the observatiosn.\n",
        "\n",
        "For example, suppose that $y_i | X_i \\sim N(X_i \\beta,\\sigma^2)$. Then, we can construct the log-likelihood function as\n",
        "\n",
        "\\begin{eqnarray}\n",
        "L(\\beta) & = & \\ln \\left( \\prod_{i=1}^n \\frac{1}{\\sqrt{2\\pi\\sigma^2}} \\exp \\left( -\n",
        "\\frac{1}{2} \\frac{(y_i - X_i \\beta)^2}{\\sigma^2} \\right) \\right) \\\\\n",
        "&= & -N \\ln(\\sqrt{2\\pi\\sigma^2}) - \\frac{1}{2\\sigma^2} \\sum (y_i - X_i\\beta)^2\n",
        "\\end{eqnarray}\n",
        "\n",
        "The maximum likelihood estimator satisfies\n",
        "\n",
        "$$\\widehat{\\beta}_{MLE} = \\arg \\max L(\\beta)$$\n",
        "\n",
        "The first-order necessary condition associated with this problem is:\n",
        "\n",
        "$$-\\sum(y_i - X_i \\beta)^2 = 0$$\n",
        "\n",
        "Therefore:\n",
        "\n",
        "$$\\widehat{\\beta}_{MLE} = \\left( \\sum X_i'X_i \\right)^{-1} \\left( \\sum X_i'y_i \\right)$$\n",
        "\n",
        "**Maximum A Posteriori (MAP):**\n",
        "\n",
        "With MAP, we specify a prior distribution for the parameters in addition to a sampling distribution for the observations. We then construct the posterior distribution for the parameters, and select the value that maximizes it.\n",
        "\n",
        "Continuing with the previous example, suppose also that $\\beta \\sim N \\left(m_0, v_0^2\\right)$.\n",
        "\n",
        "According to Bayes’ rule, the posterior satisfies:\n",
        "\n",
        "$$f\\left(\\beta \\mid \\left(y_i, X_i\\right)_{i=1}^n \\right) \\propto \\frac{1}{\\sqrt{2\\pi v_0^2 (2\\pi\\sigma^2)^N}}\n",
        "\\exp \\left( - \\frac{1}{2} \\left(\\frac{(\\beta - m_0)^2}{v_0^2}\\right) - \\frac{1}{2\\sigma^2}\n",
        "\\sum_{i=1}^N (y_i - x_i'\\beta)^2 \\right)$$\n",
        "\n",
        "The MAP estimate satisfies\n",
        "\n",
        "$$\\widehat{\\beta}_{MAP} = \\arg \\max f\\left(\\beta \\mid \\left(y_i, X_i\\right)_{i=1}^n \\right) $$\n",
        "\n",
        "The first-order necessary condition is:\n",
        "\n",
        "$$- \\left(\\frac{(\\beta - m_0)^2}{v_0^2}\\right) -\n",
        "\\frac{1}{\\sigma^2} \\sum (y_i - x_i'\\beta)^2 = 0 $$\n",
        "\n",
        "Therefore:\n",
        "\n",
        "$$\\widehat{\\beta}_{MAP} = \\left( \\frac{I}{v_0^2} + \\sum \\frac{x_i'x_i}{\\sigma^2}\n",
        "\\right)^{-1} \\left( \\frac{m_0}{v_0^2} + \\sum \\frac{x_i'y_i}{\\sigma^2} \\right)$$\n",
        "\n",
        "\n",
        "*(b) True or false: If the data are positively autocorrelated, the efficient GMM standard error that does not correct for the autocorrelation will be too small. With negative autocorrelation, the standard error will be too big.*\n",
        "\n",
        "True.\n",
        "\n",
        "Positive autocorrelation reduces the effective sample size, and therefore, increases the variance. As such, using an estimator that assumes no autocorrelation will lead to standard error estimates that are too small. To see this, consider the case where observations are perfectly positively correlated. In this case, all observations are equal, meaning that the sample size is effectively 1\n",
        "\n",
        "Similar logic applies to the case with negative autocorrelation."
      ]
    },
    {
      "cell_type": "markdown",
      "source": [
        "## Question 2\n",
        "\n",
        "*You work for the asset management department\n",
        "of a large bank. You have the historical returns of N portfolio managers over the same time period, $x_{t}^n$, with $n = 1, \\cdots ,N $ and $t = 1, \\cdots , T$. You want to see whether all of the managers produce the same average returns.*\n",
        "\n",
        "*(a) State the null hypothesis of your test.*\n",
        "\n",
        "Let $\\mu_i = \\mathbb{E} \\left[x_{t}^i \\right]$ and assume that $\\mu_i < \\infty$ for $i=1,2$. We can formulate the null hypothesis as\n",
        "\n",
        "$$H_0 : \\begin{bmatrix} \\mu_2 - \\mu_1 \\\\ \\vdots \\\\ \\mu_N - \\mu_1 \\end{bmatrix} = 0$$\n",
        "\n",
        "*(b) Assume that returns are independent and identically distributed over time but potentially correlated contemporaneously. Derive the estimator of the average returns for the N strategies, $\\widehat{\\mu}$ (this is an N ×1 vector, with $\\widehat{\\mu}_i$ being the average return estimator for manager $i$). Derive also the asymptotic covariance matrix $\\widehat{\\Omega}$ for the estimated mean vector.*\n",
        "\n",
        "*(c) Argue that the estimator $\\widehat{μ}$ has multivariate normal distribution asymptotically.*\n",
        "\n",
        "Let $x_t = \\begin{bmatrix} x_{1}^1 \\\\ \\vdots \\\\ x_{2}^N \\end{bmatrix}$. We can estimate $\\mu$ using\n",
        "\n",
        "$$\\widehat{\\mu} = \\frac{1}{T} \\sum_{t=1}^T x_t $$\n",
        "\n",
        "To argue that $\\widehat{\\mu}$ has a multivariate normal distribution asymptotically, we can use the multivariate central limit theorem. In particular, observe that $x_t$ is an IID random vector and let $\\Omega$ denote its (well-defined) covariance matrix. Then, the multivariate CLT tells us that\n",
        "\n",
        "$$\\frac{1}{\\sqrt{T}} \\left(\\widehat{\\mu} - \\mu\\right) \\sim^a N \\left(0, \\Omega\\right)$$\n",
        "\n",
        "The asymptotic covariance matrix can be estimated using\n",
        "\n",
        "$$\\widehat{\\Omega} = \\frac{1}{T} \\sum_{t-1}^T \\left(x_t - \\widehat{\\mu}\\right) \\left(x_t - \\widehat{\\mu}\\right)'$$\n",
        "\n",
        "*(d) Define $\\widehat{\\delta}_k = \\widehat{\\mu}_k − \\widehat{\\mu}_1$, $k = 2, · · · ,N$. Argue that the asymptotic distribution of the vector $\\widehat{\\delta} = (\\widehat{\\delta}_2, ..., \\widehat{δ}_N)′$ is multivariate normal. What is the mean and var-cov matrix of this distribution under the null hypothesis? Derive the var-cov matrix of $\\widehat{δ}$ from $\\widehat{\\Omega}$, and explain how to estimate it directly from return data $x^n_t$.*\n",
        "\n",
        "Define the function $g \\left(\\mu\\right) = \\begin{bmatrix} \\mu_2 - \\mu_1 \\\\\n",
        "\\vdots \\\\\n",
        "\\mu_N - \\mu_1 \\end{bmatrix}$. Observe that $g$ is a continuous function. Therefore, by the Delta method, we have\n",
        "\n",
        "$$\\frac{1}{\\sqrt{T}} \\left(g\\left(\\widehat{\\mu}\\right) - g\\left(\\mu\\right)\\right) \\sim^a N \\left(0, \\nabla g \\left(\\mu\\right)' \\Omega \\nabla g \\left(\\mu\\right) \\right)$$\n",
        "\n",
        "Equivalently,\n",
        "\n",
        "$$\\frac{1}{\\sqrt{T}} \\left(\\widehat{\\delta} - \\delta\\right) \\sim^a N \\left(0, \\nabla g \\left(\\mu\\right)' \\Omega \\nabla g \\left(\\mu\\right) \\right)$$\n",
        "\n",
        "as required.\n",
        "\n",
        "Under the null hypothesis, $\\delta = 0$.\n",
        "\n",
        "The asymptotic variance can be estimated as\n",
        "\n",
        "\\begin{eqnarray}\n",
        "\\widehat{V} & = & \\nabla g \\left(\\widehat{\\mu}\\right)' \\widehat{\\Omega} \\nabla g \\left(\\widehat{\\mu}\\right)\n",
        "\\end{eqnarray}\n",
        "\n",
        "*(e) Denote the covariance matrix of the distribution of $\\widehat{\\delta}$ in (2d) by $V$. Argue that the test statistic $W = \\widehat{\\delta}' V^{-1} \\widehat{\\delta}$ is distributed as $\\chi^2(N − 1)$.*\n",
        "\n",
        "First, note that by the delta method, $V^{-\\frac{1}{2}} \\widehat{\\delta} \\sim^a N \\left(0, I, \\right)$.\n",
        "\n",
        "Besides, $W$ can be expressed a continuous function of $V^{-\\frac{1}{2}} \\widehat{\\delta}$, and therefore, the delta method implies that $W$ is asymptotically distributed as the sum of the square of $N-1$ standard normal random variables. In other words, it has a $\\chi^2(N − 1)$ distribution.\n",
        "\n",
        "*(f) Using the $\\chi^2$ distribution, construct a test of the null hypothesis with 5% size. Your test should rely on the statistic W in (2e).*\n",
        "\n",
        "For any $\\alpha \\geq 0$, let $c_{\\alpha}$ denote the constant that satisfies $\\alpha = \\mathbb{P} \\left(\\chi ^ 2 \\left(1\\right) \\geq c_{\\alpha} \\right)$. We can test the null hypothesis at the 5% significance level as follows: Reject if and only if $\\boldsymbol{1} \\left\\{W \\geq c_{5\\%}\\right\\} = 1$.\n",
        "\n",
        "*(g) How would your answer above change if you had ignored the fact that returns are correlated contemporaneously?*\n",
        "\n",
        "If we modeled returns as IID instead of correlated contemporaneously, we would have $\\Omega = \\sigma^2 I$ where $\\sigma^2$ denotes the variance of returns."
      ],
      "metadata": {
        "id": "i9gYi-MSZprx"
      },
      "id": "i9gYi-MSZprx"
    },
    {
      "cell_type": "markdown",
      "source": [
        "## Question 3\n",
        "\n",
        "*You run a large university endowment that invests with\n",
        "outside portfolio managers. Two final candidates have been presented to you. The PMs’ track records from 2005 to 2019 are included in the spreadsheet “pm.xlsx.” You might also need the data for monthly market excess returns, returns for the SMB and HML factors, and one-month Treasury bill rates from Ken French’s website (https://goo.gl/xtDApU). Please answer the following questions.*\n",
        "\n",
        "*(a) Summarize the performances of the two managers:*\n",
        "\n",
        "- *Make scatter plots of the managers’ monthly excess returns against the market excess returns.*\n",
        "- *Make a boxplot of the two managers’ monthly returns and comment on the differences. If you notice any outliers, discuss how you would treat them.*\n",
        "- *Report the mean and standard deviation of monthly returns; compute the Sharpe ratio, information ratio, and maximum drawdown. For the information ratio, use market portfolio as the benchmark.*"
      ],
      "metadata": {
        "id": "XJdNUDoGRlpb"
      },
      "id": "XJdNUDoGRlpb"
    },
    {
      "cell_type": "code",
      "source": [
        "import pandas as pd\n",
        "import numpy as np\n",
        "import statsmodels.api as sm\n",
        "from io import BytesIO\n",
        "import zipfile\n",
        "from urllib.request import urlopen"
      ],
      "metadata": {
        "id": "oeK3vnDfRr2J"
      },
      "id": "oeK3vnDfRr2J",
      "execution_count": null,
      "outputs": []
    },
    {
      "cell_type": "code",
      "source": [
        "url_pm = 'https://raw.githubusercontent.com/museaoide/15450_457/main/PM.csv'\n",
        "df_pm = (pd.read_csv(url_pm,\n",
        "                    index_col=0,\n",
        "                    parse_dates=True,\n",
        "                    date_parser=lambda x: pd.to_datetime(x, format='%Y%m'))\n",
        "         .apply(lambda x: x / 100)\n",
        "         )\n",
        "\n",
        "url_ff = urlopen(\"http://mba.tuck.dartmouth.edu/pages/faculty/ken.french/ftp/F-F_Research_Data_Factors_CSV.zip\")\n",
        "zfile = zipfile.ZipFile(BytesIO(url_ff.read()))\n",
        "df_ff = (pd.read_csv(zfile.open('F-F_Research_Data_Factors.CSV'),\n",
        "                     header = 0,\n",
        "                     names = ['date','exmkt','smb','hml','rf'],\n",
        "                     skiprows=3,\n",
        "                     nrows=1158,\n",
        "                     index_col=0,\n",
        "                     parse_dates=True,\n",
        "                     date_parser=lambda x: pd.to_datetime(x, format='%Y%m'))\n",
        "         .apply(lambda x: x / 100)\n",
        "         )"
      ],
      "metadata": {
        "id": "V6-xxwfhxzWR"
      },
      "id": "V6-xxwfhxzWR",
      "execution_count": null,
      "outputs": []
    },
    {
      "cell_type": "code",
      "source": [
        "df = df_pm.merge(df_ff, left_index=True, right_index=True)\n",
        "df['expm1'] = df.PM1 - df.rf\n",
        "df['expm2'] = df.PM2 - df.rf"
      ],
      "metadata": {
        "id": "cPrYoEw9xK_5"
      },
      "id": "cPrYoEw9xK_5",
      "execution_count": null,
      "outputs": []
    },
    {
      "cell_type": "code",
      "source": [
        "df.plot.scatter('expm1', 'exmkt', color='blue')"
      ],
      "metadata": {
        "colab": {
          "base_uri": "https://localhost:8080/",
          "height": 471
        },
        "id": "k9ID0StdzCe2",
        "outputId": "a9e8e84e-cce4-4963-ad70-6bd570d82b62"
      },
      "id": "k9ID0StdzCe2",
      "execution_count": null,
      "outputs": [
        {
          "output_type": "execute_result",
          "data": {
            "text/plain": [
              "<Axes: xlabel='expm1', ylabel='exmkt'>"
            ]
          },
          "metadata": {},
          "execution_count": 4
        },
        {
          "output_type": "display_data",
          "data": {
            "text/plain": [
              "<Figure size 640x480 with 1 Axes>"
            ],
            "image/png": "[encoded data removed]"
          },
          "metadata": {}
        }
      ]
    },
    {
      "cell_type": "code",
      "source": [
        "df.plot.scatter('expm2', 'exmkt', color='red')"
      ],
      "metadata": {
        "colab": {
          "base_uri": "https://localhost:8080/",
          "height": 471
        },
        "id": "8P3quEP3z1vL",
        "outputId": "21c732e7-1f68-4543-b8d2-482c855c0c33"
      },
      "id": "8P3quEP3z1vL",
      "execution_count": null,
      "outputs": [
        {
          "output_type": "execute_result",
          "data": {
            "text/plain": [
              "<Axes: xlabel='expm2', ylabel='exmkt'>"
            ]
          },
          "metadata": {},
          "execution_count": 5
        },
        {
          "output_type": "display_data",
          "data": {
            "text/plain": [
              "<Figure size 640x480 with 1 Axes>"
            ],
            "image/png": "[encoded data removed]"
          },
          "metadata": {}
        }
      ]
    },
    {
      "cell_type": "code",
      "source": [
        "df[['expm1','expm2']].boxplot()"
      ],
      "metadata": {
        "colab": {
          "base_uri": "https://localhost:8080/",
          "height": 448
        },
        "id": "fgufsBSDz696",
        "outputId": "23eea997-d42a-4b95-8a3d-86e553cb50a2"
      },
      "id": "fgufsBSDz696",
      "execution_count": null,
      "outputs": [
        {
          "output_type": "execute_result",
          "data": {
            "text/plain": [
              "<Axes: >"
            ]
          },
          "metadata": {},
          "execution_count": 6
        },
        {
          "output_type": "display_data",
          "data": {
            "text/plain": [
              "<Figure size 640x480 with 1 Axes>"
            ],
            "image/png": "[encoded data removed]"
          },
          "metadata": {}
        }
      ]
    },
    {
      "cell_type": "code",
      "source": [
        "def compute_drawdown(returns):\n",
        "    \"\"\"\n",
        "    Calculate the drawdown of a series of returns.\n",
        "\n",
        "    Parameters:\n",
        "    - returns (array-like): The series of returns for which the drawdown is to\n",
        "                            be computed.\n",
        "\n",
        "    Returns:\n",
        "    - array: The drawdown series which is the ratio of cumulative returns to\n",
        "             the running maximum.\n",
        "    \"\"\"\n",
        "    cum_returns = np.multiply.accumulate(1 + returns)\n",
        "    run_max = np.maximum.accumulate(cum_returns)\n",
        "    drawdown = cum_returns / run_max\n",
        "\n",
        "    return drawdown\n",
        "\n",
        "def compute_performance(df, exp_col):\n",
        "    \"\"\"\n",
        "    Compute various performance metrics for a given set of returns in a\n",
        "    DataFrame.\n",
        "\n",
        "    Parameters:\n",
        "    - df (DataFrame): The DataFrame containing the data.\n",
        "    - exp_col (str): The column name in the DataFrame for which the metrics\n",
        "                     are computed.\n",
        "\n",
        "    Returns:\n",
        "    - dict: A dictionary containing performance metrics including mean return,\n",
        "            standard deviation, Sharpe Ratio, Information Ratio, and Maximum\n",
        "            Drawdown.\n",
        "    \"\"\"\n",
        "    returns = df[exp_col] + df['rf']\n",
        "    tracking_error = df[exp_col] - df['exmkt']\n",
        "\n",
        "    return {\n",
        "        'Mean': returns.mean(),\n",
        "        'Std Dev': returns.std(),\n",
        "        'Sharpe Ratio': df[exp_col].mean() / returns.std(),\n",
        "        'Info Ratio': tracking_error.mean() / tracking_error.std(),\n",
        "        'Max Drawdown': (compute_drawdown(returns).min() - 1) * 100\n",
        "    }\n",
        "\n",
        "def print_performance(manager_number, performance):\n",
        "    \"\"\"\n",
        "    Print the performance metrics for a manager in a formatted manner.\n",
        "\n",
        "    Parameters:\n",
        "    - manager_number (int): The identifier number of the manager.\n",
        "    - performance (dict): A dictionary containing the performance metrics to\n",
        "                          be printed.\n",
        "    \"\"\"\n",
        "    print(f\"Manager {manager_number}:\")\n",
        "    for metric, value in performance.items():\n",
        "        print(f\"{metric}: {value:.4f}\")\n",
        "    print(\"\")\n",
        "\n",
        "\n",
        "performance_1 = compute_performance(df, 'expm1')\n",
        "performance_2 = compute_performance(df, 'expm2')\n",
        "\n",
        "print_performance(1, performance_1)\n",
        "print_performance(2, performance_2)"
      ],
      "metadata": {
        "colab": {
          "base_uri": "https://localhost:8080/"
        },
        "id": "wdS-KmYT8QGS",
        "outputId": "f3757284-8569-41f4-8039-aaa01ab4da1e"
      },
      "id": "wdS-KmYT8QGS",
      "execution_count": null,
      "outputs": [
        {
          "output_type": "stream",
          "name": "stdout",
          "text": [
            "Manager 1:\n",
            "Mean: 0.0110\n",
            "Std Dev: 0.0676\n",
            "Sharpe Ratio: 0.1490\n",
            "Info Ratio: 0.0900\n",
            "Max Drawdown: -56.1173\n",
            "\n",
            "Manager 2:\n",
            "Mean: 0.0080\n",
            "Std Dev: 0.0478\n",
            "Sharpe Ratio: 0.1478\n",
            "Info Ratio: -0.0043\n",
            "Max Drawdown: -53.5017\n",
            "\n"
          ]
        }
      ]
    },
    {
      "cell_type": "markdown",
      "source": [
        "*(b) For each manager, is there any evidence for the ability to outperform the market? Is there any evidence of ability to generate alpha (relative to the Fama-French 3-factor model)? What are their exposures to size and value factors?*"
      ],
      "metadata": {
        "id": "hzvBOCnywiKA"
      },
      "id": "hzvBOCnywiKA"
    },
    {
      "cell_type": "code",
      "source": [
        "# Market\n",
        "X = sm.add_constant(df.exmkt)\n",
        "results = [sm.OLS(df[expm], X).fit() for expm in [\"expm1\", \"expm2\"]]\n",
        "results[0].summary()"
      ],
      "metadata": {
        "colab": {
          "base_uri": "https://localhost:8080/",
          "height": 452
        },
        "id": "jr7pXARXAhoT",
        "outputId": "7349c013-8edd-4d53-8b4e-43bcc5b0b6de"
      },
      "id": "jr7pXARXAhoT",
      "execution_count": null,
      "outputs": [
        {
          "output_type": "execute_result",
          "data": {
            "text/plain": [
              "<class 'statsmodels.iolib.summary.Summary'>\n",
              "\"\"\"\n",
              "                            OLS Regression Results                            \n",
              "==============================================================================\n",
              "Dep. Variable:                  expm1   R-squared:                       0.825\n",
              "Model:                            OLS   Adj. R-squared:                  0.824\n",
              "Method:                 Least Squares   F-statistic:                     1006.\n",
              "Date:                Wed, 10 Jan 2024   Prob (F-statistic):           8.08e-83\n",
              "Time:                        04:59:25   Log-Likelihood:                 463.50\n",
              "No. Observations:                 216   AIC:                            -923.0\n",
              "Df Residuals:                     214   BIC:                            -916.3\n",
              "Df Model:                           1                                         \n",
              "Covariance Type:            nonrobust                                         \n",
              "==============================================================================\n",
              "                 coef    std err          t      P>|t|      [0.025      0.975]\n",
              "------------------------------------------------------------------------------\n",
              "const          0.0004      0.002      0.208      0.836      -0.003       0.004\n",
              "exmkt          1.3544      0.043     31.711      0.000       1.270       1.439\n",
              "==============================================================================\n",
              "Omnibus:                       16.652   Durbin-Watson:                   1.757\n",
              "Prob(Omnibus):                  0.000   Jarque-Bera (JB):               29.745\n",
              "Skew:                          -0.410   Prob(JB):                     3.48e-07\n",
              "Kurtosis:                       4.623   Cond. No.                         22.1\n",
              "==============================================================================\n",
              "\n",
              "Notes:\n",
              "[1] Standard Errors assume that the covariance matrix of the errors is correctly specified.\n",
              "\"\"\""
            ],
            "text/html": [
              "<table class=\"simpletable\">\n",
              "<caption>OLS Regression Results</caption>\n",
              "<tr>\n",
              "  <th>Dep. Variable:</th>          <td>expm1</td>      <th>  R-squared:         </th> <td>   0.825</td>\n",
              "</tr>\n",
              "<tr>\n",
              "  <th>Model:</th>                   <td>OLS</td>       <th>  Adj. R-squared:    </th> <td>   0.824</td>\n",
              "</tr>\n",
              "<tr>\n",
              "  <th>Method:</th>             <td>Least Squares</td>  <th>  F-statistic:       </th> <td>   1006.</td>\n",
              "</tr>\n",
              "<tr>\n",
              "  <th>Date:</th>             <td>Wed, 10 Jan 2024</td> <th>  Prob (F-statistic):</th> <td>8.08e-83</td>\n",
              "</tr>\n",
              "<tr>\n",
              "  <th>Time:</th>                 <td>04:59:25</td>     <th>  Log-Likelihood:    </th> <td>  463.50</td>\n",
              "</tr>\n",
              "<tr>\n",
              "  <th>No. Observations:</th>      <td>   216</td>      <th>  AIC:               </th> <td>  -923.0</td>\n",
              "</tr>\n",
              "<tr>\n",
              "  <th>Df Residuals:</th>          <td>   214</td>      <th>  BIC:               </th> <td>  -916.3</td>\n",
              "</tr>\n",
              "<tr>\n",
              "  <th>Df Model:</th>              <td>     1</td>      <th>                     </th>     <td> </td>   \n",
              "</tr>\n",
              "<tr>\n",
              "  <th>Covariance Type:</th>      <td>nonrobust</td>    <th>                     </th>     <td> </td>   \n",
              "</tr>\n",
              "</table>\n",
              "<table class=\"simpletable\">\n",
              "<tr>\n",
              "    <td></td>       <th>coef</th>     <th>std err</th>      <th>t</th>      <th>P>|t|</th>  <th>[0.025</th>    <th>0.975]</th>  \n",
              "</tr>\n",
              "<tr>\n",
              "  <th>const</th> <td>    0.0004</td> <td>    0.002</td> <td>    0.208</td> <td> 0.836</td> <td>   -0.003</td> <td>    0.004</td>\n",
              "</tr>\n",
              "<tr>\n",
              "  <th>exmkt</th> <td>    1.3544</td> <td>    0.043</td> <td>   31.711</td> <td> 0.000</td> <td>    1.270</td> <td>    1.439</td>\n",
              "</tr>\n",
              "</table>\n",
              "<table class=\"simpletable\">\n",
              "<tr>\n",
              "  <th>Omnibus:</th>       <td>16.652</td> <th>  Durbin-Watson:     </th> <td>   1.757</td>\n",
              "</tr>\n",
              "<tr>\n",
              "  <th>Prob(Omnibus):</th> <td> 0.000</td> <th>  Jarque-Bera (JB):  </th> <td>  29.745</td>\n",
              "</tr>\n",
              "<tr>\n",
              "  <th>Skew:</th>          <td>-0.410</td> <th>  Prob(JB):          </th> <td>3.48e-07</td>\n",
              "</tr>\n",
              "<tr>\n",
              "  <th>Kurtosis:</th>      <td> 4.623</td> <th>  Cond. No.          </th> <td>    22.1</td>\n",
              "</tr>\n",
              "</table><br/><br/>Notes:<br/>[1] Standard Errors assume that the covariance matrix of the errors is correctly specified."
            ],
            "text/latex": "\\begin{center}\n\\begin{tabular}{lclc}\n\\toprule\n\\textbf{Dep. Variable:}    &      expm1       & \\textbf{  R-squared:         } &     0.825   \\\\\n\\textbf{Model:}            &       OLS        & \\textbf{  Adj. R-squared:    } &     0.824   \\\\\n\\textbf{Method:}           &  Least Squares   & \\textbf{  F-statistic:       } &     1006.   \\\\\n\\textbf{Date:}             & Wed, 10 Jan 2024 & \\textbf{  Prob (F-statistic):} &  8.08e-83   \\\\\n\\textbf{Time:}             &     04:59:25     & \\textbf{  Log-Likelihood:    } &    463.50   \\\\\n\\textbf{No. Observations:} &         216      & \\textbf{  AIC:               } &    -923.0   \\\\\n\\textbf{Df Residuals:}     &         214      & \\textbf{  BIC:               } &    -916.3   \\\\\n\\textbf{Df Model:}         &           1      & \\textbf{                     } &             \\\\\n\\textbf{Covariance Type:}  &    nonrobust     & \\textbf{                     } &             \\\\\n\\bottomrule\n\\end{tabular}\n\\begin{tabular}{lcccccc}\n               & \\textbf{coef} & \\textbf{std err} & \\textbf{t} & \\textbf{P$> |$t$|$} & \\textbf{[0.025} & \\textbf{0.975]}  \\\\\n\\midrule\n\\textbf{const} &       0.0004  &        0.002     &     0.208  &         0.836        &       -0.003    &        0.004     \\\\\n\\textbf{exmkt} &       1.3544  &        0.043     &    31.711  &         0.000        &        1.270    &        1.439     \\\\\n\\bottomrule\n\\end{tabular}\n\\begin{tabular}{lclc}\n\\textbf{Omnibus:}       & 16.652 & \\textbf{  Durbin-Watson:     } &    1.757  \\\\\n\\textbf{Prob(Omnibus):} &  0.000 & \\textbf{  Jarque-Bera (JB):  } &   29.745  \\\\\n\\textbf{Skew:}          & -0.410 & \\textbf{  Prob(JB):          } & 3.48e-07  \\\\\n\\textbf{Kurtosis:}      &  4.623 & \\textbf{  Cond. No.          } &     22.1  \\\\\n\\bottomrule\n\\end{tabular}\n%\\caption{OLS Regression Results}\n\\end{center}\n\nNotes: \\newline\n [1] Standard Errors assume that the covariance matrix of the errors is correctly specified."
          },
          "metadata": {},
          "execution_count": 8
        }
      ]
    },
    {
      "cell_type": "code",
      "source": [
        "results[1].summary()"
      ],
      "metadata": {
        "colab": {
          "base_uri": "https://localhost:8080/",
          "height": 452
        },
        "id": "44wMV03FCTGb",
        "outputId": "11212c66-24e0-4dee-e303-4bd60485c463"
      },
      "id": "44wMV03FCTGb",
      "execution_count": null,
      "outputs": [
        {
          "output_type": "execute_result",
          "data": {
            "text/plain": [
              "<class 'statsmodels.iolib.summary.Summary'>\n",
              "\"\"\"\n",
              "                            OLS Regression Results                            \n",
              "==============================================================================\n",
              "Dep. Variable:                  expm2   R-squared:                       0.868\n",
              "Model:                            OLS   Adj. R-squared:                  0.867\n",
              "Method:                 Least Squares   F-statistic:                     1407.\n",
              "Date:                Wed, 10 Jan 2024   Prob (F-statistic):           4.60e-96\n",
              "Time:                        04:59:25   Log-Likelihood:                 569.21\n",
              "No. Observations:                 216   AIC:                            -1134.\n",
              "Df Residuals:                     214   BIC:                            -1128.\n",
              "Df Model:                           1                                         \n",
              "Covariance Type:            nonrobust                                         \n",
              "==============================================================================\n",
              "                 coef    std err          t      P>|t|      [0.025      0.975]\n",
              "------------------------------------------------------------------------------\n",
              "const       5.239e-05      0.001      0.044      0.965      -0.002       0.002\n",
              "exmkt          0.9822      0.026     37.515      0.000       0.931       1.034\n",
              "==============================================================================\n",
              "Omnibus:                       27.754   Durbin-Watson:                   1.698\n",
              "Prob(Omnibus):                  0.000   Jarque-Bera (JB):              105.072\n",
              "Skew:                           0.385   Prob(JB):                     1.53e-23\n",
              "Kurtosis:                       6.329   Cond. No.                         22.1\n",
              "==============================================================================\n",
              "\n",
              "Notes:\n",
              "[1] Standard Errors assume that the covariance matrix of the errors is correctly specified.\n",
              "\"\"\""
            ],
            "text/html": [
              "<table class=\"simpletable\">\n",
              "<caption>OLS Regression Results</caption>\n",
              "<tr>\n",
              "  <th>Dep. Variable:</th>          <td>expm2</td>      <th>  R-squared:         </th> <td>   0.868</td>\n",
              "</tr>\n",
              "<tr>\n",
              "  <th>Model:</th>                   <td>OLS</td>       <th>  Adj. R-squared:    </th> <td>   0.867</td>\n",
              "</tr>\n",
              "<tr>\n",
              "  <th>Method:</th>             <td>Least Squares</td>  <th>  F-statistic:       </th> <td>   1407.</td>\n",
              "</tr>\n",
              "<tr>\n",
              "  <th>Date:</th>             <td>Wed, 10 Jan 2024</td> <th>  Prob (F-statistic):</th> <td>4.60e-96</td>\n",
              "</tr>\n",
              "<tr>\n",
              "  <th>Time:</th>                 <td>04:59:25</td>     <th>  Log-Likelihood:    </th> <td>  569.21</td>\n",
              "</tr>\n",
              "<tr>\n",
              "  <th>No. Observations:</th>      <td>   216</td>      <th>  AIC:               </th> <td>  -1134.</td>\n",
              "</tr>\n",
              "<tr>\n",
              "  <th>Df Residuals:</th>          <td>   214</td>      <th>  BIC:               </th> <td>  -1128.</td>\n",
              "</tr>\n",
              "<tr>\n",
              "  <th>Df Model:</th>              <td>     1</td>      <th>                     </th>     <td> </td>   \n",
              "</tr>\n",
              "<tr>\n",
              "  <th>Covariance Type:</th>      <td>nonrobust</td>    <th>                     </th>     <td> </td>   \n",
              "</tr>\n",
              "</table>\n",
              "<table class=\"simpletable\">\n",
              "<tr>\n",
              "    <td></td>       <th>coef</th>     <th>std err</th>      <th>t</th>      <th>P>|t|</th>  <th>[0.025</th>    <th>0.975]</th>  \n",
              "</tr>\n",
              "<tr>\n",
              "  <th>const</th> <td> 5.239e-05</td> <td>    0.001</td> <td>    0.044</td> <td> 0.965</td> <td>   -0.002</td> <td>    0.002</td>\n",
              "</tr>\n",
              "<tr>\n",
              "  <th>exmkt</th> <td>    0.9822</td> <td>    0.026</td> <td>   37.515</td> <td> 0.000</td> <td>    0.931</td> <td>    1.034</td>\n",
              "</tr>\n",
              "</table>\n",
              "<table class=\"simpletable\">\n",
              "<tr>\n",
              "  <th>Omnibus:</th>       <td>27.754</td> <th>  Durbin-Watson:     </th> <td>   1.698</td>\n",
              "</tr>\n",
              "<tr>\n",
              "  <th>Prob(Omnibus):</th> <td> 0.000</td> <th>  Jarque-Bera (JB):  </th> <td> 105.072</td>\n",
              "</tr>\n",
              "<tr>\n",
              "  <th>Skew:</th>          <td> 0.385</td> <th>  Prob(JB):          </th> <td>1.53e-23</td>\n",
              "</tr>\n",
              "<tr>\n",
              "  <th>Kurtosis:</th>      <td> 6.329</td> <th>  Cond. No.          </th> <td>    22.1</td>\n",
              "</tr>\n",
              "</table><br/><br/>Notes:<br/>[1] Standard Errors assume that the covariance matrix of the errors is correctly specified."
            ],
            "text/latex": "\\begin{center}\n\\begin{tabular}{lclc}\n\\toprule\n\\textbf{Dep. Variable:}    &      expm2       & \\textbf{  R-squared:         } &     0.868   \\\\\n\\textbf{Model:}            &       OLS        & \\textbf{  Adj. R-squared:    } &     0.867   \\\\\n\\textbf{Method:}           &  Least Squares   & \\textbf{  F-statistic:       } &     1407.   \\\\\n\\textbf{Date:}             & Wed, 10 Jan 2024 & \\textbf{  Prob (F-statistic):} &  4.60e-96   \\\\\n\\textbf{Time:}             &     04:59:25     & \\textbf{  Log-Likelihood:    } &    569.21   \\\\\n\\textbf{No. Observations:} &         216      & \\textbf{  AIC:               } &    -1134.   \\\\\n\\textbf{Df Residuals:}     &         214      & \\textbf{  BIC:               } &    -1128.   \\\\\n\\textbf{Df Model:}         &           1      & \\textbf{                     } &             \\\\\n\\textbf{Covariance Type:}  &    nonrobust     & \\textbf{                     } &             \\\\\n\\bottomrule\n\\end{tabular}\n\\begin{tabular}{lcccccc}\n               & \\textbf{coef} & \\textbf{std err} & \\textbf{t} & \\textbf{P$> |$t$|$} & \\textbf{[0.025} & \\textbf{0.975]}  \\\\\n\\midrule\n\\textbf{const} &    5.239e-05  &        0.001     &     0.044  &         0.965        &       -0.002    &        0.002     \\\\\n\\textbf{exmkt} &       0.9822  &        0.026     &    37.515  &         0.000        &        0.931    &        1.034     \\\\\n\\bottomrule\n\\end{tabular}\n\\begin{tabular}{lclc}\n\\textbf{Omnibus:}       & 27.754 & \\textbf{  Durbin-Watson:     } &    1.698  \\\\\n\\textbf{Prob(Omnibus):} &  0.000 & \\textbf{  Jarque-Bera (JB):  } &  105.072  \\\\\n\\textbf{Skew:}          &  0.385 & \\textbf{  Prob(JB):          } & 1.53e-23  \\\\\n\\textbf{Kurtosis:}      &  6.329 & \\textbf{  Cond. No.          } &     22.1  \\\\\n\\bottomrule\n\\end{tabular}\n%\\caption{OLS Regression Results}\n\\end{center}\n\nNotes: \\newline\n [1] Standard Errors assume that the covariance matrix of the errors is correctly specified."
          },
          "metadata": {},
          "execution_count": 9
        }
      ]
    },
    {
      "cell_type": "code",
      "source": [
        "# Fama-French 3 factor model\n",
        "X = sm.add_constant(df[[\"exmkt\", \"hml\", \"smb\"]])\n",
        "results = [sm.OLS(df[expm], X).fit() for expm in [\"expm1\", \"expm2\"]]\n",
        "results[0].summary()"
      ],
      "metadata": {
        "colab": {
          "base_uri": "https://localhost:8080/",
          "height": 494
        },
        "id": "irwt2HgQBf8W",
        "outputId": "2935b9b6-8f2f-42ab-c7c3-10e4b5355d2b"
      },
      "id": "irwt2HgQBf8W",
      "execution_count": null,
      "outputs": [
        {
          "output_type": "execute_result",
          "data": {
            "text/plain": [
              "<class 'statsmodels.iolib.summary.Summary'>\n",
              "\"\"\"\n",
              "                            OLS Regression Results                            \n",
              "==============================================================================\n",
              "Dep. Variable:                  expm1   R-squared:                       0.994\n",
              "Model:                            OLS   Adj. R-squared:                  0.994\n",
              "Method:                 Least Squares   F-statistic:                 1.096e+04\n",
              "Date:                Wed, 10 Jan 2024   Prob (F-statistic):          3.64e-232\n",
              "Time:                        04:59:25   Log-Likelihood:                 821.02\n",
              "No. Observations:                 216   AIC:                            -1634.\n",
              "Df Residuals:                     212   BIC:                            -1621.\n",
              "Df Model:                           3                                         \n",
              "Covariance Type:            nonrobust                                         \n",
              "==============================================================================\n",
              "                 coef    std err          t      P>|t|      [0.025      0.975]\n",
              "------------------------------------------------------------------------------\n",
              "const          0.0005      0.000      1.316      0.190      -0.000       0.001\n",
              "exmkt          1.2868      0.009    145.771      0.000       1.269       1.304\n",
              "hml           -0.6754      0.012    -56.903      0.000      -0.699      -0.652\n",
              "smb            0.8094      0.016     49.213      0.000       0.777       0.842\n",
              "==============================================================================\n",
              "Omnibus:                        1.522   Durbin-Watson:                   2.071\n",
              "Prob(Omnibus):                  0.467   Jarque-Bera (JB):                1.335\n",
              "Skew:                          -0.191   Prob(JB):                        0.513\n",
              "Kurtosis:                       3.048   Cond. No.                         45.2\n",
              "==============================================================================\n",
              "\n",
              "Notes:\n",
              "[1] Standard Errors assume that the covariance matrix of the errors is correctly specified.\n",
              "\"\"\""
            ],
            "text/html": [
              "<table class=\"simpletable\">\n",
              "<caption>OLS Regression Results</caption>\n",
              "<tr>\n",
              "  <th>Dep. Variable:</th>          <td>expm1</td>      <th>  R-squared:         </th> <td>   0.994</td> \n",
              "</tr>\n",
              "<tr>\n",
              "  <th>Model:</th>                   <td>OLS</td>       <th>  Adj. R-squared:    </th> <td>   0.994</td> \n",
              "</tr>\n",
              "<tr>\n",
              "  <th>Method:</th>             <td>Least Squares</td>  <th>  F-statistic:       </th> <td>1.096e+04</td>\n",
              "</tr>\n",
              "<tr>\n",
              "  <th>Date:</th>             <td>Wed, 10 Jan 2024</td> <th>  Prob (F-statistic):</th> <td>3.64e-232</td>\n",
              "</tr>\n",
              "<tr>\n",
              "  <th>Time:</th>                 <td>04:59:25</td>     <th>  Log-Likelihood:    </th> <td>  821.02</td> \n",
              "</tr>\n",
              "<tr>\n",
              "  <th>No. Observations:</th>      <td>   216</td>      <th>  AIC:               </th> <td>  -1634.</td> \n",
              "</tr>\n",
              "<tr>\n",
              "  <th>Df Residuals:</th>          <td>   212</td>      <th>  BIC:               </th> <td>  -1621.</td> \n",
              "</tr>\n",
              "<tr>\n",
              "  <th>Df Model:</th>              <td>     3</td>      <th>                     </th>     <td> </td>    \n",
              "</tr>\n",
              "<tr>\n",
              "  <th>Covariance Type:</th>      <td>nonrobust</td>    <th>                     </th>     <td> </td>    \n",
              "</tr>\n",
              "</table>\n",
              "<table class=\"simpletable\">\n",
              "<tr>\n",
              "    <td></td>       <th>coef</th>     <th>std err</th>      <th>t</th>      <th>P>|t|</th>  <th>[0.025</th>    <th>0.975]</th>  \n",
              "</tr>\n",
              "<tr>\n",
              "  <th>const</th> <td>    0.0005</td> <td>    0.000</td> <td>    1.316</td> <td> 0.190</td> <td>   -0.000</td> <td>    0.001</td>\n",
              "</tr>\n",
              "<tr>\n",
              "  <th>exmkt</th> <td>    1.2868</td> <td>    0.009</td> <td>  145.771</td> <td> 0.000</td> <td>    1.269</td> <td>    1.304</td>\n",
              "</tr>\n",
              "<tr>\n",
              "  <th>hml</th>   <td>   -0.6754</td> <td>    0.012</td> <td>  -56.903</td> <td> 0.000</td> <td>   -0.699</td> <td>   -0.652</td>\n",
              "</tr>\n",
              "<tr>\n",
              "  <th>smb</th>   <td>    0.8094</td> <td>    0.016</td> <td>   49.213</td> <td> 0.000</td> <td>    0.777</td> <td>    0.842</td>\n",
              "</tr>\n",
              "</table>\n",
              "<table class=\"simpletable\">\n",
              "<tr>\n",
              "  <th>Omnibus:</th>       <td> 1.522</td> <th>  Durbin-Watson:     </th> <td>   2.071</td>\n",
              "</tr>\n",
              "<tr>\n",
              "  <th>Prob(Omnibus):</th> <td> 0.467</td> <th>  Jarque-Bera (JB):  </th> <td>   1.335</td>\n",
              "</tr>\n",
              "<tr>\n",
              "  <th>Skew:</th>          <td>-0.191</td> <th>  Prob(JB):          </th> <td>   0.513</td>\n",
              "</tr>\n",
              "<tr>\n",
              "  <th>Kurtosis:</th>      <td> 3.048</td> <th>  Cond. No.          </th> <td>    45.2</td>\n",
              "</tr>\n",
              "</table><br/><br/>Notes:<br/>[1] Standard Errors assume that the covariance matrix of the errors is correctly specified."
            ],
            "text/latex": "\\begin{center}\n\\begin{tabular}{lclc}\n\\toprule\n\\textbf{Dep. Variable:}    &      expm1       & \\textbf{  R-squared:         } &     0.994   \\\\\n\\textbf{Model:}            &       OLS        & \\textbf{  Adj. R-squared:    } &     0.994   \\\\\n\\textbf{Method:}           &  Least Squares   & \\textbf{  F-statistic:       } & 1.096e+04   \\\\\n\\textbf{Date:}             & Wed, 10 Jan 2024 & \\textbf{  Prob (F-statistic):} & 3.64e-232   \\\\\n\\textbf{Time:}             &     04:59:25     & \\textbf{  Log-Likelihood:    } &    821.02   \\\\\n\\textbf{No. Observations:} &         216      & \\textbf{  AIC:               } &    -1634.   \\\\\n\\textbf{Df Residuals:}     &         212      & \\textbf{  BIC:               } &    -1621.   \\\\\n\\textbf{Df Model:}         &           3      & \\textbf{                     } &             \\\\\n\\textbf{Covariance Type:}  &    nonrobust     & \\textbf{                     } &             \\\\\n\\bottomrule\n\\end{tabular}\n\\begin{tabular}{lcccccc}\n               & \\textbf{coef} & \\textbf{std err} & \\textbf{t} & \\textbf{P$> |$t$|$} & \\textbf{[0.025} & \\textbf{0.975]}  \\\\\n\\midrule\n\\textbf{const} &       0.0005  &        0.000     &     1.316  &         0.190        &       -0.000    &        0.001     \\\\\n\\textbf{exmkt} &       1.2868  &        0.009     &   145.771  &         0.000        &        1.269    &        1.304     \\\\\n\\textbf{hml}   &      -0.6754  &        0.012     &   -56.903  &         0.000        &       -0.699    &       -0.652     \\\\\n\\textbf{smb}   &       0.8094  &        0.016     &    49.213  &         0.000        &        0.777    &        0.842     \\\\\n\\bottomrule\n\\end{tabular}\n\\begin{tabular}{lclc}\n\\textbf{Omnibus:}       &  1.522 & \\textbf{  Durbin-Watson:     } &    2.071  \\\\\n\\textbf{Prob(Omnibus):} &  0.467 & \\textbf{  Jarque-Bera (JB):  } &    1.335  \\\\\n\\textbf{Skew:}          & -0.191 & \\textbf{  Prob(JB):          } &    0.513  \\\\\n\\textbf{Kurtosis:}      &  3.048 & \\textbf{  Cond. No.          } &     45.2  \\\\\n\\bottomrule\n\\end{tabular}\n%\\caption{OLS Regression Results}\n\\end{center}\n\nNotes: \\newline\n [1] Standard Errors assume that the covariance matrix of the errors is correctly specified."
          },
          "metadata": {},
          "execution_count": 10
        }
      ]
    },
    {
      "cell_type": "code",
      "source": [
        "results[1].summary()"
      ],
      "metadata": {
        "colab": {
          "base_uri": "https://localhost:8080/",
          "height": 494
        },
        "id": "sSEhxrsYCZOC",
        "outputId": "e973a3fb-9927-4c6b-ff30-6f165b72581b"
      },
      "id": "sSEhxrsYCZOC",
      "execution_count": null,
      "outputs": [
        {
          "output_type": "execute_result",
          "data": {
            "text/plain": [
              "<class 'statsmodels.iolib.summary.Summary'>\n",
              "\"\"\"\n",
              "                            OLS Regression Results                            \n",
              "==============================================================================\n",
              "Dep. Variable:                  expm2   R-squared:                       0.968\n",
              "Model:                            OLS   Adj. R-squared:                  0.968\n",
              "Method:                 Least Squares   F-statistic:                     2164.\n",
              "Date:                Wed, 10 Jan 2024   Prob (F-statistic):          1.14e-158\n",
              "Time:                        04:59:25   Log-Likelihood:                 723.53\n",
              "No. Observations:                 216   AIC:                            -1439.\n",
              "Df Residuals:                     212   BIC:                            -1426.\n",
              "Df Model:                           3                                         \n",
              "Covariance Type:            nonrobust                                         \n",
              "==============================================================================\n",
              "                 coef    std err          t      P>|t|      [0.025      0.975]\n",
              "------------------------------------------------------------------------------\n",
              "const          0.0005      0.001      0.818      0.415      -0.001       0.002\n",
              "exmkt          0.9439      0.014     68.086      0.000       0.917       0.971\n",
              "hml            0.4791      0.019     25.704      0.000       0.442       0.516\n",
              "smb           -0.0979      0.026     -3.789      0.000      -0.149      -0.047\n",
              "==============================================================================\n",
              "Omnibus:                        4.609   Durbin-Watson:                   1.807\n",
              "Prob(Omnibus):                  0.100   Jarque-Bera (JB):                4.235\n",
              "Skew:                           0.324   Prob(JB):                        0.120\n",
              "Kurtosis:                       3.227   Cond. No.                         45.2\n",
              "==============================================================================\n",
              "\n",
              "Notes:\n",
              "[1] Standard Errors assume that the covariance matrix of the errors is correctly specified.\n",
              "\"\"\""
            ],
            "text/html": [
              "<table class=\"simpletable\">\n",
              "<caption>OLS Regression Results</caption>\n",
              "<tr>\n",
              "  <th>Dep. Variable:</th>          <td>expm2</td>      <th>  R-squared:         </th> <td>   0.968</td> \n",
              "</tr>\n",
              "<tr>\n",
              "  <th>Model:</th>                   <td>OLS</td>       <th>  Adj. R-squared:    </th> <td>   0.968</td> \n",
              "</tr>\n",
              "<tr>\n",
              "  <th>Method:</th>             <td>Least Squares</td>  <th>  F-statistic:       </th> <td>   2164.</td> \n",
              "</tr>\n",
              "<tr>\n",
              "  <th>Date:</th>             <td>Wed, 10 Jan 2024</td> <th>  Prob (F-statistic):</th> <td>1.14e-158</td>\n",
              "</tr>\n",
              "<tr>\n",
              "  <th>Time:</th>                 <td>04:59:25</td>     <th>  Log-Likelihood:    </th> <td>  723.53</td> \n",
              "</tr>\n",
              "<tr>\n",
              "  <th>No. Observations:</th>      <td>   216</td>      <th>  AIC:               </th> <td>  -1439.</td> \n",
              "</tr>\n",
              "<tr>\n",
              "  <th>Df Residuals:</th>          <td>   212</td>      <th>  BIC:               </th> <td>  -1426.</td> \n",
              "</tr>\n",
              "<tr>\n",
              "  <th>Df Model:</th>              <td>     3</td>      <th>                     </th>     <td> </td>    \n",
              "</tr>\n",
              "<tr>\n",
              "  <th>Covariance Type:</th>      <td>nonrobust</td>    <th>                     </th>     <td> </td>    \n",
              "</tr>\n",
              "</table>\n",
              "<table class=\"simpletable\">\n",
              "<tr>\n",
              "    <td></td>       <th>coef</th>     <th>std err</th>      <th>t</th>      <th>P>|t|</th>  <th>[0.025</th>    <th>0.975]</th>  \n",
              "</tr>\n",
              "<tr>\n",
              "  <th>const</th> <td>    0.0005</td> <td>    0.001</td> <td>    0.818</td> <td> 0.415</td> <td>   -0.001</td> <td>    0.002</td>\n",
              "</tr>\n",
              "<tr>\n",
              "  <th>exmkt</th> <td>    0.9439</td> <td>    0.014</td> <td>   68.086</td> <td> 0.000</td> <td>    0.917</td> <td>    0.971</td>\n",
              "</tr>\n",
              "<tr>\n",
              "  <th>hml</th>   <td>    0.4791</td> <td>    0.019</td> <td>   25.704</td> <td> 0.000</td> <td>    0.442</td> <td>    0.516</td>\n",
              "</tr>\n",
              "<tr>\n",
              "  <th>smb</th>   <td>   -0.0979</td> <td>    0.026</td> <td>   -3.789</td> <td> 0.000</td> <td>   -0.149</td> <td>   -0.047</td>\n",
              "</tr>\n",
              "</table>\n",
              "<table class=\"simpletable\">\n",
              "<tr>\n",
              "  <th>Omnibus:</th>       <td> 4.609</td> <th>  Durbin-Watson:     </th> <td>   1.807</td>\n",
              "</tr>\n",
              "<tr>\n",
              "  <th>Prob(Omnibus):</th> <td> 0.100</td> <th>  Jarque-Bera (JB):  </th> <td>   4.235</td>\n",
              "</tr>\n",
              "<tr>\n",
              "  <th>Skew:</th>          <td> 0.324</td> <th>  Prob(JB):          </th> <td>   0.120</td>\n",
              "</tr>\n",
              "<tr>\n",
              "  <th>Kurtosis:</th>      <td> 3.227</td> <th>  Cond. No.          </th> <td>    45.2</td>\n",
              "</tr>\n",
              "</table><br/><br/>Notes:<br/>[1] Standard Errors assume that the covariance matrix of the errors is correctly specified."
            ],
            "text/latex": "\\begin{center}\n\\begin{tabular}{lclc}\n\\toprule\n\\textbf{Dep. Variable:}    &      expm2       & \\textbf{  R-squared:         } &     0.968   \\\\\n\\textbf{Model:}            &       OLS        & \\textbf{  Adj. R-squared:    } &     0.968   \\\\\n\\textbf{Method:}           &  Least Squares   & \\textbf{  F-statistic:       } &     2164.   \\\\\n\\textbf{Date:}             & Wed, 10 Jan 2024 & \\textbf{  Prob (F-statistic):} & 1.14e-158   \\\\\n\\textbf{Time:}             &     04:59:25     & \\textbf{  Log-Likelihood:    } &    723.53   \\\\\n\\textbf{No. Observations:} &         216      & \\textbf{  AIC:               } &    -1439.   \\\\\n\\textbf{Df Residuals:}     &         212      & \\textbf{  BIC:               } &    -1426.   \\\\\n\\textbf{Df Model:}         &           3      & \\textbf{                     } &             \\\\\n\\textbf{Covariance Type:}  &    nonrobust     & \\textbf{                     } &             \\\\\n\\bottomrule\n\\end{tabular}\n\\begin{tabular}{lcccccc}\n               & \\textbf{coef} & \\textbf{std err} & \\textbf{t} & \\textbf{P$> |$t$|$} & \\textbf{[0.025} & \\textbf{0.975]}  \\\\\n\\midrule\n\\textbf{const} &       0.0005  &        0.001     &     0.818  &         0.415        &       -0.001    &        0.002     \\\\\n\\textbf{exmkt} &       0.9439  &        0.014     &    68.086  &         0.000        &        0.917    &        0.971     \\\\\n\\textbf{hml}   &       0.4791  &        0.019     &    25.704  &         0.000        &        0.442    &        0.516     \\\\\n\\textbf{smb}   &      -0.0979  &        0.026     &    -3.789  &         0.000        &       -0.149    &       -0.047     \\\\\n\\bottomrule\n\\end{tabular}\n\\begin{tabular}{lclc}\n\\textbf{Omnibus:}       &  4.609 & \\textbf{  Durbin-Watson:     } &    1.807  \\\\\n\\textbf{Prob(Omnibus):} &  0.100 & \\textbf{  Jarque-Bera (JB):  } &    4.235  \\\\\n\\textbf{Skew:}          &  0.324 & \\textbf{  Prob(JB):          } &    0.120  \\\\\n\\textbf{Kurtosis:}      &  3.227 & \\textbf{  Cond. No.          } &     45.2  \\\\\n\\bottomrule\n\\end{tabular}\n%\\caption{OLS Regression Results}\n\\end{center}\n\nNotes: \\newline\n [1] Standard Errors assume that the covariance matrix of the errors is correctly specified."
          },
          "metadata": {},
          "execution_count": 11
        }
      ]
    },
    {
      "cell_type": "markdown",
      "source": [
        "None of the managers appear to generate significant alpha."
      ],
      "metadata": {
        "id": "3SGDeQhmCc8W"
      },
      "id": "3SGDeQhmCc8W"
    },
    {
      "cell_type": "markdown",
      "source": [
        "*(c) Which PM is better at beating the market? Which can generate a higher Sharpe ratio? Which can generate a higher information ratio based on the 3-factor model (defined as $\\frac{\\alpha_i}{\\sigma \\left(\\epsilon_{i,t}\\right)}$ from the model above)? Answer these questions through formal statistical tests.*\n",
        "\n",
        "Recall that the CAPM is\n",
        "\n",
        "$$R_{i,t}^e = \\alpha_i + \\beta_i R_{m,t}^e + \\nu_{i,t}$$\n",
        "\n",
        "where $\\nu_{i,t}$ denotes an error term.\n",
        "\n",
        "We are interested in testing the hypothesis\n",
        "\n",
        "$$H_0 : \\alpha_1 - \\alpha_2 = 0$$\n",
        "\n",
        "Notice that\n",
        "\n",
        "\\begin{eqnarray}\n",
        "R_{1,t}^e - R_{2,t}^e & = & \\alpha_1 - \\alpha_2 + \\left(\\beta_1 - \\beta_2 \\right) R_{m,t}^e + \\nu_{1,t} - \\nu_{2,t} \\\\\n",
        "& \\equiv & \\widetilde{\\alpha} + \\widetilde{\\beta} R_{m,t}^e + \\widetilde{\\nu}_{t}\n",
        "\\end{eqnarray}\n",
        "\n",
        "Hence, we can test our hypothesis by testing\n",
        "\n",
        "$$H_0 : \\widetilde{\\alpha} = 0$$"
      ],
      "metadata": {
        "id": "r4LnxqExC0SF"
      },
      "id": "r4LnxqExC0SF"
    },
    {
      "cell_type": "code",
      "source": [
        "X = sm.add_constant(df.exmkt)\n",
        "y = df.PM1 - df.PM2\n",
        "sm.OLS(y, X).fit().summary()"
      ],
      "metadata": {
        "colab": {
          "base_uri": "https://localhost:8080/",
          "height": 452
        },
        "id": "kL5iGEVdZzQh",
        "outputId": "81c935f3-2c50-4b5a-9da2-b7b4f1caae6f"
      },
      "id": "kL5iGEVdZzQh",
      "execution_count": null,
      "outputs": [
        {
          "output_type": "execute_result",
          "data": {
            "text/plain": [
              "<class 'statsmodels.iolib.summary.Summary'>\n",
              "\"\"\"\n",
              "                            OLS Regression Results                            \n",
              "==============================================================================\n",
              "Dep. Variable:                      y   R-squared:                       0.136\n",
              "Model:                            OLS   Adj. R-squared:                  0.132\n",
              "Method:                 Least Squares   F-statistic:                     33.61\n",
              "Date:                Wed, 10 Jan 2024   Prob (F-statistic):           2.40e-08\n",
              "Time:                        04:59:25   Log-Likelihood:                 375.47\n",
              "No. Observations:                 216   AIC:                            -746.9\n",
              "Df Residuals:                     214   BIC:                            -740.2\n",
              "Df Model:                           1                                         \n",
              "Covariance Type:            nonrobust                                         \n",
              "==============================================================================\n",
              "                 coef    std err          t      P>|t|      [0.025      0.975]\n",
              "------------------------------------------------------------------------------\n",
              "const          0.0004      0.003      0.120      0.904      -0.005       0.006\n",
              "exmkt          0.3722      0.064      5.797      0.000       0.246       0.499\n",
              "==============================================================================\n",
              "Omnibus:                       30.631   Durbin-Watson:                   1.678\n",
              "Prob(Omnibus):                  0.000   Jarque-Bera (JB):               97.105\n",
              "Skew:                          -0.529   Prob(JB):                     8.20e-22\n",
              "Kurtosis:                       6.110   Cond. No.                         22.1\n",
              "==============================================================================\n",
              "\n",
              "Notes:\n",
              "[1] Standard Errors assume that the covariance matrix of the errors is correctly specified.\n",
              "\"\"\""
            ],
            "text/html": [
              "<table class=\"simpletable\">\n",
              "<caption>OLS Regression Results</caption>\n",
              "<tr>\n",
              "  <th>Dep. Variable:</th>            <td>y</td>        <th>  R-squared:         </th> <td>   0.136</td>\n",
              "</tr>\n",
              "<tr>\n",
              "  <th>Model:</th>                   <td>OLS</td>       <th>  Adj. R-squared:    </th> <td>   0.132</td>\n",
              "</tr>\n",
              "<tr>\n",
              "  <th>Method:</th>             <td>Least Squares</td>  <th>  F-statistic:       </th> <td>   33.61</td>\n",
              "</tr>\n",
              "<tr>\n",
              "  <th>Date:</th>             <td>Wed, 10 Jan 2024</td> <th>  Prob (F-statistic):</th> <td>2.40e-08</td>\n",
              "</tr>\n",
              "<tr>\n",
              "  <th>Time:</th>                 <td>04:59:25</td>     <th>  Log-Likelihood:    </th> <td>  375.47</td>\n",
              "</tr>\n",
              "<tr>\n",
              "  <th>No. Observations:</th>      <td>   216</td>      <th>  AIC:               </th> <td>  -746.9</td>\n",
              "</tr>\n",
              "<tr>\n",
              "  <th>Df Residuals:</th>          <td>   214</td>      <th>  BIC:               </th> <td>  -740.2</td>\n",
              "</tr>\n",
              "<tr>\n",
              "  <th>Df Model:</th>              <td>     1</td>      <th>                     </th>     <td> </td>   \n",
              "</tr>\n",
              "<tr>\n",
              "  <th>Covariance Type:</th>      <td>nonrobust</td>    <th>                     </th>     <td> </td>   \n",
              "</tr>\n",
              "</table>\n",
              "<table class=\"simpletable\">\n",
              "<tr>\n",
              "    <td></td>       <th>coef</th>     <th>std err</th>      <th>t</th>      <th>P>|t|</th>  <th>[0.025</th>    <th>0.975]</th>  \n",
              "</tr>\n",
              "<tr>\n",
              "  <th>const</th> <td>    0.0004</td> <td>    0.003</td> <td>    0.120</td> <td> 0.904</td> <td>   -0.005</td> <td>    0.006</td>\n",
              "</tr>\n",
              "<tr>\n",
              "  <th>exmkt</th> <td>    0.3722</td> <td>    0.064</td> <td>    5.797</td> <td> 0.000</td> <td>    0.246</td> <td>    0.499</td>\n",
              "</tr>\n",
              "</table>\n",
              "<table class=\"simpletable\">\n",
              "<tr>\n",
              "  <th>Omnibus:</th>       <td>30.631</td> <th>  Durbin-Watson:     </th> <td>   1.678</td>\n",
              "</tr>\n",
              "<tr>\n",
              "  <th>Prob(Omnibus):</th> <td> 0.000</td> <th>  Jarque-Bera (JB):  </th> <td>  97.105</td>\n",
              "</tr>\n",
              "<tr>\n",
              "  <th>Skew:</th>          <td>-0.529</td> <th>  Prob(JB):          </th> <td>8.20e-22</td>\n",
              "</tr>\n",
              "<tr>\n",
              "  <th>Kurtosis:</th>      <td> 6.110</td> <th>  Cond. No.          </th> <td>    22.1</td>\n",
              "</tr>\n",
              "</table><br/><br/>Notes:<br/>[1] Standard Errors assume that the covariance matrix of the errors is correctly specified."
            ],
            "text/latex": "\\begin{center}\n\\begin{tabular}{lclc}\n\\toprule\n\\textbf{Dep. Variable:}    &        y         & \\textbf{  R-squared:         } &     0.136   \\\\\n\\textbf{Model:}            &       OLS        & \\textbf{  Adj. R-squared:    } &     0.132   \\\\\n\\textbf{Method:}           &  Least Squares   & \\textbf{  F-statistic:       } &     33.61   \\\\\n\\textbf{Date:}             & Wed, 10 Jan 2024 & \\textbf{  Prob (F-statistic):} &  2.40e-08   \\\\\n\\textbf{Time:}             &     04:59:25     & \\textbf{  Log-Likelihood:    } &    375.47   \\\\\n\\textbf{No. Observations:} &         216      & \\textbf{  AIC:               } &    -746.9   \\\\\n\\textbf{Df Residuals:}     &         214      & \\textbf{  BIC:               } &    -740.2   \\\\\n\\textbf{Df Model:}         &           1      & \\textbf{                     } &             \\\\\n\\textbf{Covariance Type:}  &    nonrobust     & \\textbf{                     } &             \\\\\n\\bottomrule\n\\end{tabular}\n\\begin{tabular}{lcccccc}\n               & \\textbf{coef} & \\textbf{std err} & \\textbf{t} & \\textbf{P$> |$t$|$} & \\textbf{[0.025} & \\textbf{0.975]}  \\\\\n\\midrule\n\\textbf{const} &       0.0004  &        0.003     &     0.120  &         0.904        &       -0.005    &        0.006     \\\\\n\\textbf{exmkt} &       0.3722  &        0.064     &     5.797  &         0.000        &        0.246    &        0.499     \\\\\n\\bottomrule\n\\end{tabular}\n\\begin{tabular}{lclc}\n\\textbf{Omnibus:}       & 30.631 & \\textbf{  Durbin-Watson:     } &    1.678  \\\\\n\\textbf{Prob(Omnibus):} &  0.000 & \\textbf{  Jarque-Bera (JB):  } &   97.105  \\\\\n\\textbf{Skew:}          & -0.529 & \\textbf{  Prob(JB):          } & 8.20e-22  \\\\\n\\textbf{Kurtosis:}      &  6.110 & \\textbf{  Cond. No.          } &     22.1  \\\\\n\\bottomrule\n\\end{tabular}\n%\\caption{OLS Regression Results}\n\\end{center}\n\nNotes: \\newline\n [1] Standard Errors assume that the covariance matrix of the errors is correctly specified."
          },
          "metadata": {},
          "execution_count": 12
        }
      ]
    },
    {
      "cell_type": "markdown",
      "source": [
        "We don't find evidence that a manager is better than the other\n",
        "at beating the market."
      ],
      "metadata": {
        "id": "pdF3q2U4b8j8"
      },
      "id": "pdF3q2U4b8j8"
    },
    {
      "cell_type": "markdown",
      "source": [
        "To test whether a manager can generate a higher Sharpe ratio than the other, we formulate the following hypothesis:\n",
        "\n",
        "$$H_0 : \\frac{\\mu_1}{\\sigma_1} - \\frac{\\mu_2}{\\sigma_2} = 0$$\n",
        "\n",
        "To test this hypothesis, we can use GMM. Let $R_{i,t} = R_{f, t} + R_{i,t}^e$ where $R_{f,t}$ denotes the risk free rate.Consider the following moment function:\n",
        "\n",
        "$$f\\left(R_t, \\theta\\right) = \\begin{bmatrix} R_{1,t} - \\mu_1 \\\\ R_{2,t} - \\mu_2 \\\\\n",
        "\\left(R_{1,t} - \\mu_1 \\right) ^ 2 - \\sigma_1^2 \\\\\n",
        "\\left(R_{2,t} - \\mu_2 \\right) ^ 2 - \\sigma_2^2 \\end{bmatrix}$$\n",
        "\n",
        "where $R_t = \\begin{bmatrix} R_{1, t} \\\\ R_{2,t} \\end{bmatrix}$ and $\\theta = \\left(\\mu_1, \\mu_2, \\sigma_1, \\sigma_2\\right)$.\n",
        "\n",
        "In class, we saw that\n",
        "\n",
        "$$\\sqrt{n} \\left(\\widehat{\\theta}_{GMM} - \\theta \\right) \\sim^a N \\left(0, \\left(G' \\Omega^{-1} G \\right)^{-1} \\right) $$\n",
        "\n",
        "when the weighting matrix is $\\Omega^{-1}$ where\n",
        "\n",
        "\\begin{eqnarray}\n",
        "  \\Omega & = & \\mathbb{E} \\left[f\\left(R_t, \\theta\\right) f\\left(R_t, \\theta\\right)' \\right] \\\\\n",
        "  G & = & \\mathbb{E} \\left[\\nabla_{\\theta} f\\left(R_t, \\theta\\right) \\right]\n",
        "\\end{eqnarray}\n",
        "\n",
        "where $\\mathbb{E} \\left[\\nabla_{\\theta} f\\left(R_t, \\theta\\right) \\right] = \\begin{bmatrix} -1 & 0 & 0 & 0 \\\\ 0 & -1 & 0 & 0 \\\\ 0 & 0 & -2 \\sigma_1 & 0 \\\\\n",
        "0 & 0 & 0 & -2 \\sigma_2 \\end{bmatrix}$.\n",
        "\n",
        "Notice that we can compute $\\theta$ analytically in this case. Besides, we can estimate $\\Omega$ and $G$ by replacing expectations with their empirical counterpart and evaluating functions at the estimated parameters.\n",
        "\n",
        "Finally, notice that $g\\left(\\theta\\right) = \\frac{\\mu_1}{\\sigma_1} - \\frac{\\mu_2}{\\sigma_2}$ is a continuous function, and therefore, we can use the Delta method to derive the variance of this quantity. In particular,\n",
        "\n",
        "$$\\sqrt{n} \\left(g\\left(\\widehat{\\theta}_{GMM}\\right) - g\\left(\\theta \\right) \\right) \\sim^a N \\left(0, \\nabla_{\\theta} g \\left(\\theta\\right)' \\left(G' \\Omega^{-1} G \\right)^{-1} \\nabla_{\\theta} g \\left(\\theta\\right)\\right)  $$\n",
        "\n",
        "where $\\nabla_{\\theta} g \\left(\\theta\\right) = \\begin{bmatrix} \\frac{1}{\\sigma_1} \\\\\n",
        "-\\frac{1}{\\sigma_2} \\\\\n",
        "-\\frac{\\mu_1}{\\sigma_1^2} \\\\\n",
        "\\frac{\\mu_2}{\\sigma_2^2} \\end{bmatrix} $.\n",
        "\n",
        "$\\mathbb{E} \\left[\\nabla_{\\theta} f\\left(R_t, \\theta\\right) \\right] = \\begin{bmatrix} -1 & 0 & 0 & 0 \\\\ 0 & -1 & 0 & 0 \\\\ 0 & 0 & -2 \\sigma_1 & 0 \\\\\n",
        "0 & 0 & 0 & -2 \\sigma_2 \\end{bmatrix}$."
      ],
      "metadata": {
        "id": "b-CYiso6dl6j"
      },
      "id": "b-CYiso6dl6j"
    },
    {
      "cell_type": "code",
      "source": [
        "def f(R, theta):\n",
        "  R_1, R_2 = R\n",
        "  mu_1, mu_2, sigma_1, sigma_2 = theta\n",
        "\n",
        "  resid = np.array([R_1 - mu_1,\n",
        "                    R_2 - mu_2,\n",
        "                    (R_1 - mu_1) ** 2 - sigma_1 ** 2,\n",
        "                    (R_2 - mu_2) ** 2 - sigma_2 ** 2])\n",
        "\n",
        "  return resid\n",
        "\n",
        "\n",
        "theta_hat = np.array([\n",
        "    df.expm1.mean(),\n",
        "    df.expm2.mean(),\n",
        "    df.expm1.std(),\n",
        "    df.expm2.std()\n",
        "])\n",
        "\n",
        "mu_1_hat, mu_2_hat, sigma_1_hat, sigma_2_hat = theta_hat\n",
        "\n",
        "G_hat = np.array([[-1, 0, 0, 0],\n",
        "                  [0, -1, 0, 0],\n",
        "                  [0, 0, -2 * sigma_1_hat, 0],\n",
        "                  [0, 0, 0, -2 * sigma_2_hat]])\n",
        "\n",
        "f_hat = df[['expm1', 'expm2']].apply(lambda R: f(R, theta_hat),\n",
        "                                     axis=1,\n",
        "                                     result_type='expand').values\n",
        "T = len(f_hat)\n",
        "Omega_hat = f_hat.T @ f_hat / T\n",
        "\n",
        "nabla_g_hat = np.array([[1 / sigma_1_hat],\n",
        "                        [-1 / sigma_2_hat],\n",
        "                        [-mu_1_hat / sigma_1_hat ** 2],\n",
        "                        [mu_2_hat / sigma_2_hat ** 2]])\n",
        "\n",
        "sr_diff = mu_1_hat / sigma_1_hat - mu_2_hat / sigma_2_hat\n",
        "var_sr_diff = 1 / T * nabla_g_hat.T @ np.linalg.inv(G_hat.T @ np.linalg.inv(Omega_hat) @ G_hat) @ nabla_g_hat\n",
        "se_sr_diff = np.sqrt(var_sr_diff)\n",
        "tstat = sr_diff / se_sr_diff\n",
        "\n",
        "print(f\"Sharpe ratio difference: {sr_diff}\")\n",
        "print(f\"t-stat for difference in Sharpe ratios: {tstat.item()}\")"
      ],
      "metadata": {
        "colab": {
          "base_uri": "https://localhost:8080/"
        },
        "id": "07aqbBS0cYsy",
        "outputId": "29ba608c-f55d-4f43-e4e6-b5278d598702"
      },
      "id": "07aqbBS0cYsy",
      "execution_count": null,
      "outputs": [
        {
          "output_type": "stream",
          "name": "stdout",
          "text": [
            "Sharpe ratio difference: 0.0011979616396915749\n",
            "t-stat for difference in Sharpe ratios: 0.022219304934889127\n"
          ]
        }
      ]
    },
    {
      "cell_type": "markdown",
      "source": [
        "Again, we don't find evidence that a manager can generate a higher Sharpe ratio than the other.\n",
        "\n",
        "We can use the same methodology for the information ratio. In that case, the hypothesis is\n",
        "\n",
        "$$H_0 : \\frac{\\mu_1}{\\sigma \\left(\\epsilon_{1,t}\\right)} - \\frac{\\mu_2}{\\sigma \\left(\\epsilon_{2,t}\\right)}= 0 $$\n",
        "\n",
        "Let $X_t = \\left(R_t, W_t'\\right)$, $W_t = \\left(1, R_{m,t}^e, R_{hml, t}, R_{smb, t} \\right)'$, and $\\theta = \\left(\\alpha_1, \\alpha_2, \\beta_1, \\beta_2, \\gamma_1, \\gamma_2, \\delta_1, \\delta_2, \\sigma_1, \\sigma_2 \\right)$.\n",
        "\n",
        "The moment function is\n",
        "\n",
        "$$f\\left(X_t, \\theta\\right) = \\begin{bmatrix} W_t \\epsilon_{1, t} \\\\\n",
        "W_t \\epsilon_{2, t} \\\\\n",
        "\\epsilon_{1, t} ^ 2 - \\sigma_1^2 \\\\\n",
        "\\epsilon_{2, t} ^ 2 - \\sigma_2^2 \\end{bmatrix}$$\n",
        "\n",
        "Besides,\n",
        "\n",
        "$$\\mathbb{E} \\left[\\nabla_{\\theta} f\\left(R_t, \\theta\\right) \\right] = \\begin{bmatrix} -\\mathbb{E} \\left[W_t W_t' \\right] & 0 & 0 & 0 \\\\ 0 & -\\mathbb{E} \\left[W_t W_t' \\right] & 0 & 0 \\\\ 0 & 0 & -2 \\sigma_1 & 0 \\\\\n",
        "0 & 0 & 0 & -2 \\sigma_2 \\end{bmatrix}$$\n",
        "\n",
        "\n",
        "The function $\\nabla_{\\theta} g \\left(\\theta\\right)$ is\n",
        "\n",
        "$$\\nabla_{\\theta} g \\left(\\theta\\right) = \\begin{pmatrix} \\frac{1}{\\sigma_1} \\\\ \\frac{-1}{\\sigma_2} \\\\ 0 \\\\ 0 \\\\ 0 \\\\ 0 \\\\ 0 \\\\ 0 \\\\ \\frac{-\\alpha_1}{\\sigma_1^2} \\\\ \\frac{\\alpha_2}{\\sigma^2_2} \\end{pmatrix}$$"
      ],
      "metadata": {
        "id": "TYkHLS3xcdfl"
      },
      "id": "TYkHLS3xcdfl"
    },
    {
      "cell_type": "code",
      "source": [
        "def f(X_t, theta):\n",
        "  R_1, R_2, const, R_m, R_hml, R_smb  = X_t\n",
        "  W = np.array([const, R_m, R_hml, R_smb])\n",
        "  alpha_1, alpha_2, beta_1, beta_2, gamma_1, gamma_2, delta_1, delta_2, sigma_1, sigma_2 = theta\n",
        "  epsilon_1 = R_1 - alpha_1 - beta_1 * R_m - gamma_1 * R_hml - delta_1 * R_smb\n",
        "  epsilon_2 = R_2 - alpha_2 - beta_2 * R_m - gamma_2 * R_hml - delta_2 * R_smb\n",
        "\n",
        "  resid = np.array([*(W * epsilon_1),\n",
        "                    *(W * epsilon_2),\n",
        "                    epsilon_1 ** 2 - sigma_1 ** 2,\n",
        "                    epsilon_2 ** 2 - sigma_2 ** 2])\n",
        "\n",
        "  return resid\n",
        "\n",
        "\n",
        "W = sm.add_constant(df[[\"exmkt\", \"hml\", \"smb\"]])\n",
        "result_1 = sm.OLS(df.PM1, W).fit()\n",
        "result_2 = sm.OLS(df.PM2, W).fit()\n",
        "\n",
        "alpha_1_hat, beta_1_hat, gamma_1_hat, delta_1_hat = result_1.params\n",
        "alpha_2_hat, beta_2_hat, gamma_2_hat, delta_2_hat = result_2.params\n",
        "sigma_1_hat = np.sqrt(np.var(result_1.resid))\n",
        "sigma_2_hat = np.sqrt(np.var(result_2.resid))\n",
        "\n",
        "theta_hat = np.array([\n",
        "    alpha_1_hat,\n",
        "    alpha_2_hat,\n",
        "    beta_1_hat,\n",
        "    beta_2_hat,\n",
        "    gamma_1_hat,\n",
        "    gamma_2_hat,\n",
        "    delta_1_hat,\n",
        "    delta_2_hat,\n",
        "    sigma_1_hat,\n",
        "    sigma_2_hat,\n",
        "])\n",
        "\n",
        "\n",
        "X = pd.concat([df[['PM1', 'PM2']], W], axis=1)\n",
        "f_hat = X.apply(lambda X_t: f(X_t, theta_hat), axis=1, result_type='expand').values\n",
        "T = len(f_hat)\n",
        "Omega_hat = f_hat.T @ f_hat / T\n",
        "\n",
        "EWWT = (W.T @ W).values / T\n",
        "G_hat = np.block([[EWWT, np.zeros((4, 4)), np.zeros((4, 2))],\n",
        "                  [np.zeros((4, 4)), EWWT, np.zeros((4, 2))],\n",
        "                  [np.zeros((1, 4)), np.zeros((1, 4)), np.array([-2 * sigma_1_hat, 0])],\n",
        "                  [np.zeros((1, 4)), np.zeros((1, 4)), np.array([0, -2 * sigma_2_hat])]])\n",
        "\n",
        "nabla_g_hat = np.array([[1 / sigma_1_hat],\n",
        "                        [0],\n",
        "                        [0],\n",
        "                        [0],\n",
        "                        [-1 / sigma_2_hat],\n",
        "                        [0],\n",
        "                        [0],\n",
        "                        [0],\n",
        "                        [-alpha_1_hat / sigma_1_hat ** 2],\n",
        "                        [alpha_2_hat / sigma_2_hat ** 2]])\n",
        "\n",
        "\n",
        "ir_diff = alpha_1_hat / sigma_1_hat - alpha_2_hat / sigma_2_hat\n",
        "var_ir_diff = 1 / T * nabla_g_hat.T @ np.linalg.inv(G_hat.T @ np.linalg.inv(Omega_hat) @ G_hat) @ nabla_g_hat\n",
        "se_ir_diff = np.sqrt(var_ir_diff)\n",
        "tstat = ir_diff / se_ir_diff\n",
        "\n",
        "print(f\"Information ratio difference: {ir_diff}\")\n",
        "print(f\"t-stat for difference in information ratios: {tstat.item()}\")\n"
      ],
      "metadata": {
        "colab": {
          "base_uri": "https://localhost:8080/"
        },
        "id": "e4vFtxchubJS",
        "outputId": "93b077f0-bf38-4d97-82bf-5843a0d09af1"
      },
      "id": "e4vFtxchubJS",
      "execution_count": null,
      "outputs": [
        {
          "output_type": "stream",
          "name": "stdout",
          "text": [
            "Information ratio difference: 0.10483533191590286\n",
            "t-stat for difference in information ratios: 1.0549260795056936\n"
          ]
        }
      ]
    },
    {
      "cell_type": "markdown",
      "source": [
        "We don't find evidence of a difference in information ratios between the two managers."
      ],
      "metadata": {
        "id": "n-35X5EOLRsE"
      },
      "id": "n-35X5EOLRsE"
    },
    {
      "cell_type": "markdown",
      "source": [
        "## Question 4\n",
        "\n",
        "*After learning about Bernard and Thomas (1985), you are wondering whether your own hedge fund can build a trading strategy based on the PEAD. You thought of a different way to identify stocks with positive and negative earnings surprises. Instead of using accounting data, you will sort stocks based on the standardized excess return on the day after the announcement (earnings are released after the market close):*\n",
        "\n",
        "$$s_{i,t} = \\frac{R_{i,t} - R_{m,t}}{\\sigma_{i,t}}$$\n",
        "\n",
        "*where $R_{i,t}$ is stock $i$’s return on day $t$, $R_{m,t}$ is the market return, and $\\sigma_{i,t}$ is the volatility of stock $i$’s excess return (which can be estimated using past returns, say the past 60 days).*\n",
        "\n",
        "*Data: You can download the data at https://goo.gl/Ahxa9A, which contains two files. The first is PEAD.csv, which contains historical daily return data for the 1000 largest stocks (based on market cap at the end of 2010). The field “cap” is the market capitalization of the company. The field ”ann” is a dummy variable that is equal to 1 on the day after the company’s earnings announcement and zero otherwise. The second file is market.csv, which contains the daily market return from the same sample period.*\n",
        "\n",
        "*Design an event study to test the null hypothesis that “stocks with the most positive (negative) standardized excess returns on the day after the announcement have the same average returns in the next 30 days.” You can define “most positive (negative)” as those stocks with $s_{i,t }> k$ ($s_{i,t} < −k$) for some $k$ (e.g., $k = 3$, but you can also experiment with the threshold).*"
      ],
      "metadata": {
        "id": "qe6-s85GRnAa"
      },
      "id": "qe6-s85GRnAa"
    },
    {
      "cell_type": "code",
      "source": [
        "\n",
        "import pandas as pd\n",
        "import scipy.stats as stats\n",
        "import statsmodels.api as sm\n",
        "\n",
        "\n",
        "def read_and_process_csv(url):\n",
        "    df = pd.read_csv(url, on_bad_lines='skip', parse_dates=['DATE'],\n",
        "                     date_parser=lambda x: pd.to_datetime(x, format='%Y%m%d'))\n",
        "    return df\n",
        "\n",
        "\n",
        "def preprocess_data(df):\n",
        "    df['RET'] -= 0.01\n",
        "    df['ret_m'] -= 0.01\n",
        "    df['Rolling_STD'] = df.groupby('PERMNO')['RET'].transform(\n",
        "        lambda x: x.rolling(60).std().shift(1)\n",
        "    )\n",
        "    return df\n",
        "\n",
        "\n",
        "def market_model_abnormal(subdf, event_index, estimation_window, event_window):\n",
        "    calibration_data = subdf[max(0, event_index - estimation_window - 1):event_index].copy()\n",
        "    X = sm.add_constant(calibration_data['ret_m'])\n",
        "    y = calibration_data['RET']\n",
        "    model = sm.OLS(y, X).fit()\n",
        "\n",
        "    prediction_data = subdf[event_index + 1:min(len(subdf), event_index + event_window + 1)].copy()\n",
        "    prediction_data['expected_return'] = model.params['const'] + model.params['ret_m'] * prediction_data['ret_m']\n",
        "    prediction_data['abnormal_return'] = prediction_data['RET'] - prediction_data['expected_return']\n",
        "\n",
        "    return prediction_data['abnormal_return'].sum()\n",
        "\n",
        "\n",
        "def compute_CAR(df, condition):\n",
        "    estimation_window, event_window = 60, 30\n",
        "    CAR_list = []\n",
        "\n",
        "    for idx, row in df[df[condition] == 1].iterrows():\n",
        "        stock_data = df[df['PERMNO'] == row['PERMNO']].reset_index(drop=True)\n",
        "        event_index = stock_data.index[stock_data['DATE'] == row['DATE']][0]\n",
        "\n",
        "        if event_index >= estimation_window and len(stock_data) - event_index - 1 >= event_window:\n",
        "            CAR = market_model_abnormal(stock_data, event_index, estimation_window, event_window)\n",
        "            CAR_list.append((row['DATE'], row['PERMNO'], CAR))\n",
        "\n",
        "    return pd.DataFrame(CAR_list, columns=['DATE', 'PERMNO', 'CAR'])\n",
        "\n",
        "\n",
        "def hypothesis_testing(df):\n",
        "    N = df.shape[0]\n",
        "    CARavg = df['CAR'].mean()\n",
        "    variance = (1/N**2) * ((df['CAR'] - CARavg)**2).sum()\n",
        "    SCAR = CARavg / (variance**0.5)\n",
        "    p = (1 - stats.norm.cdf(SCAR))\n",
        "\n",
        "    print(f\"Test-statistic: {SCAR}, p-value: {p}, N={N}\")\n",
        "\n",
        "\n",
        "# Main execution\n",
        "PEAD_URL = \"https://www.dropbox.com/s/alaa2tp9rpzpz67/PEAD.csv?dl=1\"\n",
        "MKT_URL = \"https://www.dropbox.com/s/xhcsmbreyon1qlv/market.csv?dl=1\"\n",
        "\n",
        "pead = read_and_process_csv(PEAD_URL)\n",
        "mkt = read_and_process_csv(MKT_URL)\n",
        "\n",
        "pead = pead.merge(mkt, on='DATE')\n",
        "pead = preprocess_data(pead.drop_duplicates().dropna(subset=['RET', 'ret_m']))\n",
        "\n",
        "k = 3.0\n",
        "pead['most_pos'] = pead['ann'] * (((pead['RET'] - pead['ret_m']) / pead['Rolling_STD']) > k)\n",
        "pead['most_neg'] = pead['ann'] * (((pead['RET'] - pead['ret_m']) / pead['Rolling_STD']) < -k)\n",
        "\n",
        "mostpos_CAR = compute_CAR(pead, 'most_pos')\n",
        "mostneg_CAR = compute_CAR(pead, 'most_neg')\n",
        "\n",
        "hypothesis_testing(mostpos_CAR)\n",
        "hypothesis_testing(mostneg_CAR)\n"
      ],
      "metadata": {
        "id": "FhSpulcERoQa",
        "colab": {
          "base_uri": "https://localhost:8080/"
        },
        "outputId": "4c6f23de-4943-4789-eb56-61f242d731db"
      },
      "id": "FhSpulcERoQa",
      "execution_count": null,
      "outputs": [
        {
          "output_type": "stream",
          "name": "stdout",
          "text": [
            "Test-statistic: 3.6363920707955546, p-value: 0.00013824170452314544, N=2229\n",
            "Test-statistic: 2.6379600550431275, p-value: 0.004170320292895324, N=2193\n"
          ]
        }
      ]
    }
  ],
  "metadata": {
    "kernelspec": {
      "display_name": "Python 3 (ipykernel)",
      "language": "python",
      "name": "python3"
    },
    "language_info": {
      "codemirror_mode": {
        "name": "ipython",
        "version": 3
      },
      "file_extension": ".py",
      "mimetype": "text/x-python",
      "name": "python",
      "nbconvert_exporter": "python",
      "pygments_lexer": "ipython3",
      "version": "3.10.9"
    },
    "colab": {
      "provenance": [],
      "toc_visible": true
    }
  },
  "nbformat": 4,
  "nbformat_minor": 5
}
