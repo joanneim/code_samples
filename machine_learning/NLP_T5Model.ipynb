{
  "nbformat": 4,
  "nbformat_minor": 0,
  "metadata": {
    "accelerator": "GPU",
    "colab": {
      "provenance": [],
      "toc_visible": true,
      "include_colab_link": true
    },
    "environment": {
      "name": "common-cpu.m65",
      "type": "gcloud",
      "uri": "gcr.io/deeplearning-platform-release/base-cpu:m65"
    },
    "kernelspec": {
      "display_name": "Python 3",
      "language": "python",
      "name": "python3"
    },
    "language_info": {
      "codemirror_mode": {
        "name": "ipython",
        "version": 3
      },
      "file_extension": ".py",
      "mimetype": "text/x-python",
      "name": "python",
      "nbconvert_exporter": "python",
      "pygments_lexer": "ipython3",
      "version": "3.7.3"
    }
  },
  "cells": [
    {
      "cell_type": "markdown",
      "metadata": {
        "id": "view-in-github",
        "colab_type": "text"
      },
      "source": [
        "<a href=\"https://colab.research.google.com/github/joanneim/code_samples/blob/main/NLP_T5Model.ipynb\" target=\"_parent\"><img src=\"https://colab.research.google.com/assets/colab-badge.svg\" alt=\"Open In Colab\"/></a>"
      ]
    },
    {
      "cell_type": "markdown",
      "metadata": {
        "id": "rkTLZ3I4_7c_"
      },
      "source": [
        "#Fine-tuning T5 from the Huggingface Library Simple Transformers"
      ]
    },
    {
      "cell_type": "code",
      "metadata": {
        "id": "WXiUiZSSyuo2"
      },
      "source": [
        "#!pip install simpletransformers\n",
        "import pandas as pd\n",
        "from simpletransformers.t5 import T5Model\n",
        "from pprint import pprint\n",
        "import logging"
      ],
      "execution_count": null,
      "outputs": []
    },
    {
      "cell_type": "code",
      "metadata": {
        "id": "k75t7O_wYbP7"
      },
      "source": [
        "# Making sure the environment is set up correctly for anyone running this notebook\n",
        "import datetime\n",
        "import json\n",
        "import os\n",
        "import pprint\n",
        "import random\n",
        "import string\n",
        "import sys\n",
        "import tensorflow as tf\n",
        "import datetime as datetime"
      ],
      "execution_count": null,
      "outputs": []
    },
    {
      "cell_type": "markdown",
      "metadata": {
        "id": "EyUjFnlbYbP7"
      },
      "source": [
        "**Getting the Data**"
      ]
    },
    {
      "cell_type": "code",
      "metadata": {
        "id": "7gVwoNAWYbP7",
        "outputId": "6c148ec0-455c-45b4-bdd6-00947512d70f"
      },
      "source": [
        "with open(\"../data/raw/yelp_processedUTF8.csv\") as f:\n",
        "    print(f)"
      ],
      "execution_count": null,
      "outputs": [
        {
          "output_type": "stream",
          "text": [
            "<_io.TextIOWrapper name='../data/raw/yelp_processedUTF8.csv' mode='r' encoding='UTF-8'>\n"
          ],
          "name": "stdout"
        }
      ]
    },
    {
      "cell_type": "code",
      "metadata": {
        "id": "u-8-gBw1zmEG",
        "outputId": "0283a336-208f-4f39-dfce-faa87f6f076e"
      },
      "source": [
        "from tensorflow import keras\n",
        "from bert import modeling\n",
        "import os\n",
        "import re\n",
        "import pandas as pd\n",
        "print(os.getcwd())\n",
        "def download_and_load_dataset(force_download=True):\n",
        "  return pd.read_csv(\"../data/raw/yelp_processedUTF8.csv\", encoding = 'UTF-8')\n"
      ],
      "execution_count": null,
      "outputs": [
        {
          "output_type": "stream",
          "text": [
            "/Users/Joanneim/Dropbox (MIT)/Work/github/6862_Fake_Review_Detection/code\n"
          ],
          "name": "stdout"
        }
      ]
    },
    {
      "cell_type": "code",
      "metadata": {
        "id": "O2NUbil0YbP9"
      },
      "source": [
        "reviews = download_and_load_dataset()"
      ],
      "execution_count": null,
      "outputs": []
    },
    {
      "cell_type": "markdown",
      "metadata": {
        "id": "nkaA9fOEYbP9"
      },
      "source": [
        "**Processing the data**"
      ]
    },
    {
      "cell_type": "code",
      "metadata": {
        "id": "_57IQljLqems"
      },
      "source": [
        "reviews = reviews[['reviewText', 'fakeLabel']]\n",
        "def refinereviewText(row):\n",
        "    return row['reviewText'].lower()\n",
        "\n",
        "def refinefakeLabel(row):\n",
        "    if row['fakeLabel'] == -1:\n",
        "        return 0\n",
        "    else:\n",
        "        return 1\n",
        "\n",
        "reviews = reviews.dropna()\n",
        "reviews['reviewText'] = reviews.apply(refinereviewText, axis=1)\n",
        "reviews['fakeLabel'] = reviews.apply(refinefakeLabel, axis=1)\n",
        "\n",
        "df_zeros = reviews[reviews['fakeLabel'] == 0]\n",
        "df_ones = reviews[reviews['fakeLabel'] == 1].sample(80466)\n",
        "df_combined = df_zeros.append(df_ones)\n",
        "df_combined = df_combined.sample(frac=1).reset_index(drop=True)\n",
        "df_smaller = df_combined.sample(frac=0.1).reset_index(drop=True)\n",
        "df_smaller\n",
        "\n",
        "reviews = df_smaller.copy()\n",
        "reviews = reviews.rename(columns={\"reviewText\": \"review\", \"fakeLabel\": \"deceptive\"})\n",
        "reviews.deceptive = reviews.deceptive.astype(str)"
      ],
      "execution_count": null,
      "outputs": []
    },
    {
      "cell_type": "code",
      "metadata": {
        "id": "Zsa0Zo8tYbP-",
        "outputId": "38255f84-fbfc-4f80-bad5-98ca603abf6c"
      },
      "source": [
        "# Check that label is a string\n",
        "print(reviews.deceptive[0])\n",
        "type(reviews.deceptive[0])"
      ],
      "execution_count": null,
      "outputs": [
        {
          "output_type": "stream",
          "text": [
            "1\n"
          ],
          "name": "stdout"
        },
        {
          "output_type": "execute_result",
          "data": {
            "text/plain": [
              "str"
            ]
          },
          "metadata": {
            "tags": []
          },
          "execution_count": 8
        }
      ]
    },
    {
      "cell_type": "code",
      "metadata": {
        "colab": {
          "base_uri": "https://localhost:8080/",
          "height": 419
        },
        "id": "fw2FEsRHqe9u",
        "outputId": "ae7b7915-9a2b-4337-b1a5-def96be96638"
      },
      "source": [
        "reviews.head(2)"
      ],
      "execution_count": null,
      "outputs": [
        {
          "output_type": "execute_result",
          "data": {
            "text/html": [
              "<div>\n",
              "<style scoped>\n",
              "    .dataframe tbody tr th:only-of-type {\n",
              "        vertical-align: middle;\n",
              "    }\n",
              "\n",
              "    .dataframe tbody tr th {\n",
              "        vertical-align: top;\n",
              "    }\n",
              "\n",
              "    .dataframe thead th {\n",
              "        text-align: right;\n",
              "    }\n",
              "</style>\n",
              "<table border=\"1\" class=\"dataframe\">\n",
              "  <thead>\n",
              "    <tr style=\"text-align: right;\">\n",
              "      <th></th>\n",
              "      <th>review</th>\n",
              "      <th>deceptive</th>\n",
              "    </tr>\n",
              "  </thead>\n",
              "  <tbody>\n",
              "    <tr>\n",
              "      <th>0</th>\n",
              "      <td>the first time i went to geronimo, the service...</td>\n",
              "      <td>1</td>\n",
              "    </tr>\n",
              "    <tr>\n",
              "      <th>1</th>\n",
              "      <td>i miss my msg! ok, make that salt. the touchsc...</td>\n",
              "      <td>0</td>\n",
              "    </tr>\n",
              "  </tbody>\n",
              "</table>\n",
              "</div>"
            ],
            "text/plain": [
              "                                              review deceptive\n",
              "0  the first time i went to geronimo, the service...         1\n",
              "1  i miss my msg! ok, make that salt. the touchsc...         0"
            ]
          },
          "metadata": {
            "tags": []
          },
          "execution_count": 9
        }
      ]
    },
    {
      "cell_type": "markdown",
      "metadata": {
        "id": "fjl3ZiP1_g82"
      },
      "source": [
        "Everything until this cell has been run of the mill data processing and setup. Now, we split OpSpam into 80/20 train/test, and define the labels we wish to classify."
      ]
    },
    {
      "cell_type": "code",
      "metadata": {
        "id": "MTAXkXpF5Svh"
      },
      "source": [
        "from sklearn.model_selection import StratifiedShuffleSplit\n",
        "import numpy as np\n",
        "\n",
        "cross_num = 4\n",
        "splitter = StratifiedShuffleSplit(n_splits=5, random_state=910, test_size=0.2)\n",
        "labels = [str(x) for x in reviews['deceptive']]\n",
        "train_indices, test_indices = [x for x in splitter.split(reviews['review'], labels)][cross_num]\n",
        "\n",
        "training_X = np.array([reviews['review'][x] for x in train_indices])\n",
        "training_y = np.array([labels[x] for x in train_indices])\n",
        "test_X = np.array([reviews['review'][x] for x in test_indices])\n",
        "test_y = np.array([labels[x] for x in test_indices])\n",
        "\n",
        "# label_list is the list of labels, i.e. True, False or 0, 1 or 'dog', 'cat'\n",
        "label_list = [\"0\", \"1\"]"
      ],
      "execution_count": null,
      "outputs": []
    },
    {
      "cell_type": "code",
      "metadata": {
        "colab": {
          "base_uri": "https://localhost:8080/"
        },
        "id": "hcaqrWmblDGX",
        "outputId": "b099ca23-90da-4c94-9406-263185c92f11"
      },
      "source": [
        "#Colummns are x (text), and y (labels)\n",
        "train = pd.DataFrame(zip(training_X, training_y), columns=[\"x\", \"y\"])\n",
        "test = pd.DataFrame(zip(test_X, test_y), columns=[\"x\", \"y\"])\n",
        "train.y.value_counts(), test.y.value_counts()"
      ],
      "execution_count": null,
      "outputs": [
        {
          "output_type": "execute_result",
          "data": {
            "text/plain": [
              "(1    6509\n",
              " 0    6365\n",
              " Name: y, dtype: int64, 1    1628\n",
              " 0    1591\n",
              " Name: y, dtype: int64)"
            ]
          },
          "metadata": {
            "tags": []
          },
          "execution_count": 11
        }
      ]
    },
    {
      "cell_type": "code",
      "metadata": {
        "colab": {
          "base_uri": "https://localhost:8080/",
          "height": 419
        },
        "id": "v076QOK4sEW2",
        "outputId": "4cbc920f-6cfa-45e3-f180-b8d8079b9ac8"
      },
      "source": [
        "test_review= train['x'][1]\n",
        "test_label = train['y'][1]\n",
        "print((type(test_review), type(test_label)))"
      ],
      "execution_count": null,
      "outputs": [
        {
          "output_type": "stream",
          "text": [
            "(<class 'numpy.str_'>, <class 'numpy.str_'>)\n"
          ],
          "name": "stdout"
        }
      ]
    },
    {
      "cell_type": "code",
      "metadata": {
        "id": "fo4L-HsCYbQB"
      },
      "source": [
        "train[\"prefix\"] = \"Genuine Review?\"\n",
        "train= train.rename(\n",
        "  columns={\"x\": \"input_text\", \"y\": \"target_text\"})"
      ],
      "execution_count": null,
      "outputs": []
    },
    {
      "cell_type": "code",
      "metadata": {
        "id": "YzjaNg4CYbQB"
      },
      "source": [
        "# Model arguemnts\n",
        "model_args = {\n",
        "    \"reprocess_input_data\": True,\n",
        "    \"overwrite_output_dir\": True,\n",
        "    \"max_seq_length\": 128, #words in model vocabullary\n",
        "    \"train_batch_size\": 16,\n",
        "    \"num_train_epochs\": 1,\n",
        "    \"num_beams\": None,\n",
        "    \"do_sample\": True,\n",
        "    \"max_length\": 1,\n",
        "    \"top_k\": 1, #since this is binary, choose the top, https://jalammar.github.io/illustrated-gpt2/\n",
        "    \"top_p\": 0.95,\n",
        "    \"use_multiprocessing\": False,\n",
        "    \"save_steps\": -1,\n",
        "    \"save_eval_checkpoints\": True,\n",
        "    \"evaluate_during_training\": True,\n",
        "    \"evaluate_during_training_verbose\": True,\n",
        "    \"num_return_sequences\": 1 #number of samples to generate\n",
        "}\n",
        "model = T5Model(\"t5\",\"t5-small\", args=model_args, use_cuda = False)"
      ],
      "execution_count": null,
      "outputs": []
    },
    {
      "cell_type": "code",
      "metadata": {
        "id": "vaum5jaSYbQC"
      },
      "source": [
        "import tensorflow as tf\n",
        "# Calculate evaluation metrics.\n",
        "def metric_fn(label_ids, predicted_labels):\n",
        "    accuracy = tf.metrics.accuracy(label_ids, predicted_labels)\n",
        "    f1_score = tf.contrib.metrics.f1_score(\n",
        "        label_ids,\n",
        "        predicted_labels)\n",
        "    auc = tf.metrics.auc(\n",
        "        label_ids,\n",
        "        predicted_labels)\n",
        "    recall = tf.metrics.recall(\n",
        "        label_ids,\n",
        "        predicted_labels)\n",
        "    precision = tf.metrics.precision(\n",
        "        label_ids,\n",
        "        predicted_labels)\n",
        "    true_pos = tf.metrics.true_positives(\n",
        "        label_ids,\n",
        "        predicted_labels)\n",
        "    true_neg = tf.metrics.true_negatives(\n",
        "        label_ids,\n",
        "        predicted_labels)\n",
        "    false_pos = tf.metrics.false_positives(\n",
        "        label_ids,\n",
        "        predicted_labels)\n",
        "    false_neg = tf.metrics.false_negatives(\n",
        "        label_ids,\n",
        "        predicted_labels)\n",
        "    return {\n",
        "        \"eval_accuracy\": accuracy,\n",
        "        \"f1_score\": f1_score,\n",
        "        \"auc\": auc,\n",
        "        \"precision\": precision,\n",
        "        \"recall\": recall,\n",
        "        \"true_positives\": true_pos,\n",
        "        \"true_negatives\": true_neg,\n",
        "        \"false_positives\": false_pos,\n",
        "        \"false_negatives\": false_neg}"
      ],
      "execution_count": null,
      "outputs": []
    },
    {
      "cell_type": "code",
      "metadata": {
        "id": "g0MTPZ-FYbQD"
      },
      "source": [
        "# Train the model\n",
        "model.train_model(train, output_dir = \"../bestmodel\", eval_data=test, metrics=metric_fn)"
      ],
      "execution_count": null,
      "outputs": []
    },
    {
      "cell_type": "code",
      "metadata": {
        "id": "YdbU4POSYbQD"
      },
      "source": [
        "# Save the best model"
      ],
      "execution_count": null,
      "outputs": []
    }
  ]
}
